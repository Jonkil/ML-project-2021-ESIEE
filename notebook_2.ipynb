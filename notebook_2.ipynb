{
 "cells": [
  {
   "cell_type": "markdown",
   "metadata": {},
   "source": [
    "## Table of Contents\n",
    "* [Description of dataset columns and preferred formats](#first-section)\n",
    "* [Loading data](#second-section)\n",
    "* [Preliminary analysis of the dataset](#third-section)\n",
    "* [Feature analysis and engineering](#fourth-section)\n",
    "* [Splitting data into train, validation and test datasets](#fith-section)\n",
    "* [Model training](#sixth-section)"
   ]
  },
  {
   "cell_type": "markdown",
   "metadata": {
    "jp-MarkdownHeadingCollapsed": true,
    "tags": []
   },
   "source": [
    "## Description of dataset columns and preferred formats <a class=\"anchor\" id=\"first-section\"></a>\n",
    "\n",
    "[Reference link](https://www.kaggle.com/xwolf12/malicious-and-benign-websites/discussion/54433)"
   ]
  },
  {
   "cell_type": "markdown",
   "metadata": {},
   "source": [
    "***URL***: it is the anonimous identification of the URL analyzed in the study\n",
    "\n",
    "***URL_LENGTH***: it is the number of characters in the URL\n",
    "\n",
    "***NUMBER_SPECIAL_CHARACTERS***: it is number of special characters identified in the URL, such as, “/”, “%”, “#”, “&”, “. “, “=”\n",
    "\n",
    "***CHARSET***: it is a categorical value and its meaning is the character encoding standard (also called character set).\n",
    "\n",
    "***SERVER***: it is a categorical value and its meaning is the operative system of the server got from the packet response.\n",
    "\n",
    "***CONTENT_LENGTH***: it represents the content size of the HTTP header.\n",
    "\n",
    "***WHOIS_COUNTRY***: it is a categorical variable, its values are the countries we got from the server response (specifically, our script used the API of Whois).\n",
    "\n",
    "***WHOIS_STATEPRO***: it is a categorical variable, its values are the states we got from the server response (specifically, our script used the API of Whois).\n",
    "\n",
    "***WHOIS_REGDATE***: Whois provides the server registration date, so, this variable has date values with format DD/MM/YYY HH:MM\n",
    "\n",
    "***WHOIS_UPDATED_DATE***: Through the Whois we got the last update date from the server analyzed\n",
    "\n",
    "***TCP_CONVERSATION_EXCHANGE***: This variable is the number of TCP packets exchanged between the server and our honeypot client\n",
    "\n",
    "***DIST_REMOTE_TCP_PORT***: it is the number of the ports detected and different to TCP\n",
    "\n",
    "***REMOTE_IPS***: this variable has the total number of IPs connected to the honeypot\n",
    "\n",
    "***APP_BYTES***: this is the number of bytes transfered\n",
    "\n",
    "***SOURCE_APP_PACKETS***: packets sent from the honeypot to the server\n",
    "\n",
    "***REMOTE_APP_PACKETS***: packets received from the server\n",
    "\n",
    "***APP_PACKETS***: this is the total number of IP packets generated during the communication between the honeypot and the server\n",
    "\n",
    "***DNS_QUERY_TIMES***: this is the number of DNS packets generated during the communication between the honeypot and the server\n",
    "\n",
    "***TYPE***: this is a categorical variable, its values represent the type of web page analyzed, specifically, 1 is for malicious websites and 0 is for benign websites\n"
   ]
  },
  {
   "cell_type": "markdown",
   "metadata": {},
   "source": [
    "### Column formats"
   ]
  },
  {
   "cell_type": "markdown",
   "metadata": {},
   "source": [
    "Considering the above description, it is proposed to initially give folloiwng formats to columns:\n",
    "\n",
    "**string**:\n",
    "- *URL*, *CHARSET*, *SERVER*, *CONTENT_LENGTH*, *WHOIS_COUNTRY*, *WHOIS_STATEPRO* \n",
    "\n",
    "**string or date**:\n",
    "- *WHOIS_REGDATE*, *WHOIS_UPDATED_DATE*\n",
    "\n",
    "**numeric - int or float**:\n",
    "- *URL_LENGTH*, *NUMBER_SPECIAL_CHARACTERS*, *CONTENT_LENGTH*, *TCP_CONVERSATION_EXCHANGE*, *DIST_REMOTE_TCP_PORT*, *REMOTE_IPS*, *APP_BYTES*, *SOURCE_APP_PACKETS*, *REMOTE_APP_PACKETS*, *SOURCE_APP_BYTES*, *REMOTE_APP_BYTES*, *APP_PACKETS*, *DNS_QUERY_TIMES*, *Type*\n",
    "\n",
    "The chosen formats for columns may change after the **Feature engineering** and **Feature selection** phases."
   ]
  },
  {
   "cell_type": "markdown",
   "metadata": {
    "tags": []
   },
   "source": [
    "## Loading data <a class=\"anchor\" id=\"second-section\"></a>"
   ]
  },
  {
   "cell_type": "code",
   "execution_count": 450,
   "metadata": {},
   "outputs": [],
   "source": [
    "# importing general libraries\n",
    "# other libraries will be imported later, upon demand\n",
    "from datetime import datetime\n",
    "import matplotlib.pyplot as plt\n",
    "import pandas as pd\n",
    "import numpy as np\n",
    "import seaborn as sns\n",
    "\n",
    "import warnings\n",
    "warnings.filterwarnings('ignore')\n",
    "\n",
    "%matplotlib inline\n"
   ]
  },
  {
   "cell_type": "markdown",
   "metadata": {},
   "source": [
    "When reading a CSV table into Pandas with `read_csv()`, columns get formats that are derived by the function.\n",
    "One can assign columns' formats using the `dtype` parameter. It is also possible to assign formats to a subset of columns.\n",
    "\n",
    "\n",
    "If a column contains missing values, it cannot be assigned to `int`. It must be either `string` (i.e. `object` in Pandas terms) or `float`.\n",
    "Therefore, we assign `string` format to several columns that we are sure about, including those that contain dates. \n",
    "For the rest of columns we let Pandas derive numeric formats. Numeric columns must have the period as the decimal value delimiter, ex. `3.1415`."
   ]
  },
  {
   "cell_type": "code",
   "execution_count": 86,
   "metadata": {},
   "outputs": [],
   "source": [
    "dtype_string_columns = {'URL': str,\n",
    "                        'CHARSET': str,\n",
    "                        'SERVER': str,\n",
    "                        'WHOIS_COUNTRY': str,\n",
    "                        'WHOIS_STATEPRO': str,\n",
    "                        'WHOIS_REGDATE': str,\n",
    "                        'WHOIS_UPDATED_DATE': str}\n",
    "\n",
    "dtype_int_columns = {'NUMBER_SPECIAL_CHARACTERS': int,\n",
    "                     'CONTENT_LENGTH': int,\n",
    "                     'TCP_CONVERSATION_EXCHANGE': int,\n",
    "                     'DIST_REMOTE_TCP_PORT': int,\n",
    "                     'REMOTE_IPS': int,\n",
    "                     'APP_BYTES': int,\n",
    "                     'SOURCE_APP_PACKETS': int,\n",
    "                     'REMOTE_APP_PACKETS': int,\n",
    "                     'SOURCE_APP_BYTES': int,\n",
    "                     'REMOTE_APP_BYTES': int,\n",
    "                     'APP_PACKETS': int,\n",
    "                     'DNS_QUERY_TIMES': int,\n",
    "                     'Type': int}\n",
    "\n",
    "dtype = {'URL': str,\n",
    "         'URL_LENGTH': int,\n",
    "         'NUMBER_SPECIAL_CHARACTERS': int,\n",
    "         'CHARSET': str,\n",
    "         'SERVER': str,\n",
    "         'CONTENT_LENGTH': int,\n",
    "         'WHOIS_COUNTRY': str,\n",
    "         'WHOIS_STATEPRO': str,\n",
    "         'WHOIS_REGDATE': str,\n",
    "         'WHOIS_UPDATED_DATE': str,\n",
    "         'TCP_CONVERSATION_EXCHANGE': int,\n",
    "         'DIST_REMOTE_TCP_PORT': int,\n",
    "         'REMOTE_IPS': int,\n",
    "         'APP_BYTES': int,\n",
    "         'SOURCE_APP_PACKETS': int,\n",
    "         'REMOTE_APP_PACKETS': int,\n",
    "         'SOURCE_APP_BYTES': int,\n",
    "         'REMOTE_APP_BYTES': int,\n",
    "         'APP_PACKETS': int,\n",
    "         'DNS_QUERY_TIMES': int,\n",
    "         'Type': int}\n"
   ]
  },
  {
   "cell_type": "markdown",
   "metadata": {},
   "source": [
    "No errors were raised during data loading."
   ]
  },
  {
   "cell_type": "code",
   "execution_count": 159,
   "metadata": {},
   "outputs": [],
   "source": [
    "df_train = pd.read_csv(\"data/Train.csv\",\n",
    "                       header=0,\n",
    "                       sep=\",\",\n",
    "                       dtype=dtype_string_columns\n",
    "                       )\n"
   ]
  },
  {
   "cell_type": "markdown",
   "metadata": {
    "jp-MarkdownHeadingCollapsed": true,
    "tags": []
   },
   "source": [
    "## Preliminary analysis of the dataset <a class=\"anchor\" id=\"third-section\"></a>\n",
    "\n",
    "Our training dataset contains 1431 rows and 21 columns; 20 predictor columns and 1 target."
   ]
  },
  {
   "cell_type": "code",
   "execution_count": 88,
   "metadata": {},
   "outputs": [
    {
     "data": {
      "text/plain": [
       "(1431, 21)"
      ]
     },
     "execution_count": 88,
     "metadata": {},
     "output_type": "execute_result"
    }
   ],
   "source": [
    "# shape\n",
    "df_train.shape\n"
   ]
  },
  {
   "cell_type": "markdown",
   "metadata": {},
   "source": [
    "It looks like *URL* column serves as an index for observations and should not be used in training a model. Therefore, we can assume that there are 19 predictors. The numeric columns *CONTENT_LENGTH* and *DNS_QUERY_TIMES*, and string-based column *SERVER* contain missing values. **Data imputation** or **dropping the whole column** should be considered for these columns."
   ]
  },
  {
   "cell_type": "code",
   "execution_count": 173,
   "metadata": {},
   "outputs": [
    {
     "name": "stdout",
     "output_type": "stream",
     "text": [
      "<class 'pandas.core.frame.DataFrame'>\n",
      "RangeIndex: 1431 entries, 0 to 1430\n",
      "Data columns (total 23 columns):\n",
      " #   Column                     Non-Null Count  Dtype         \n",
      "---  ------                     --------------  -----         \n",
      " 0   URL                        1431 non-null   object        \n",
      " 1   URL_LENGTH                 1431 non-null   int64         \n",
      " 2   NUMBER_SPECIAL_CHARACTERS  1431 non-null   int64         \n",
      " 3   CHARSET                    1431 non-null   object        \n",
      " 4   SERVER                     1430 non-null   object        \n",
      " 5   CONTENT_LENGTH             786 non-null    float64       \n",
      " 6   WHOIS_COUNTRY              1431 non-null   object        \n",
      " 7   WHOIS_STATEPRO             1431 non-null   object        \n",
      " 8   WHOIS_REGDATE              1431 non-null   object        \n",
      " 9   WHOIS_UPDATED_DATE         1431 non-null   object        \n",
      " 10  TCP_CONVERSATION_EXCHANGE  1431 non-null   int64         \n",
      " 11  DIST_REMOTE_TCP_PORT       1431 non-null   int64         \n",
      " 12  REMOTE_IPS                 1431 non-null   int64         \n",
      " 13  APP_BYTES                  1431 non-null   int64         \n",
      " 14  SOURCE_APP_PACKETS         1431 non-null   int64         \n",
      " 15  REMOTE_APP_PACKETS         1431 non-null   int64         \n",
      " 16  SOURCE_APP_BYTES           1431 non-null   int64         \n",
      " 17  REMOTE_APP_BYTES           1431 non-null   int64         \n",
      " 18  APP_PACKETS                1431 non-null   int64         \n",
      " 19  DNS_QUERY_TIMES            1430 non-null   float64       \n",
      " 20  Type                       1431 non-null   int64         \n",
      " 21  WHOIS_REGDATE_TS           1431 non-null   datetime64[ns]\n",
      " 22  WHOIS_UPDATED_DATE_TS      1431 non-null   datetime64[ns]\n",
      "dtypes: datetime64[ns](2), float64(2), int64(12), object(7)\n",
      "memory usage: 257.3+ KB\n"
     ]
    }
   ],
   "source": [
    "# missing values\n",
    "df_train.info()\n"
   ]
  },
  {
   "cell_type": "markdown",
   "metadata": {},
   "source": [
    "We can see that the dataset is imbalanced. Only about `11%` of observations belong to the `positive` class. One should take this into account when splitting data into train, validation and test subsets as well as during cross-validation. It is also possible to try some re-sampling methods to balance the classes (upsampling or undersampling). "
   ]
  },
  {
   "cell_type": "code",
   "execution_count": 92,
   "metadata": {},
   "outputs": [
    {
     "data": {
      "text/plain": [
       "0    0.89\n",
       "1    0.11\n",
       "Name: Type, dtype: float64"
      ]
     },
     "execution_count": 92,
     "metadata": {},
     "output_type": "execute_result"
    }
   ],
   "source": [
    "df_train.Type.value_counts(normalize=True).round(2)\n"
   ]
  },
  {
   "cell_type": "markdown",
   "metadata": {
    "tags": []
   },
   "source": [
    "### Pair plot\n",
    "It is possible to create a scatter plot for every pair of numeric features. The `pairplot()` function of the `Seaborn` library gives such a graph. Using different colors for dots of different target classes, one can \n",
    "visualize if the two classes are separable. \n",
    "\n",
    "Since the input table is not large, we can use the `pairplot()` function on the whole dataset. However, generating this plot is a demanding task and may take a long time."
   ]
  },
  {
   "cell_type": "code",
   "execution_count": 19,
   "metadata": {},
   "outputs": [],
   "source": [
    "# sns.pairplot(df_train, hue='Type')\n"
   ]
  },
  {
   "cell_type": "markdown",
   "metadata": {
    "tags": []
   },
   "source": [
    "# Feature analysis and engineering  <a class=\"anchor\" id=\"fourth-section\"></a>"
   ]
  },
  {
   "cell_type": "markdown",
   "metadata": {
    "jp-MarkdownHeadingCollapsed": true,
    "tags": []
   },
   "source": [
    "## Formatting datetime columns\n",
    "Original datetime columns have different string formats. Also they contain non-datetime values that need to be processed. We use string-length of datetime values to differentiate between formats and to find non-datetime values."
   ]
  },
  {
   "cell_type": "code",
   "execution_count": 168,
   "metadata": {},
   "outputs": [
    {
     "data": {
      "text/html": [
       "<div>\n",
       "<style scoped>\n",
       "    .dataframe tbody tr th:only-of-type {\n",
       "        vertical-align: middle;\n",
       "    }\n",
       "\n",
       "    .dataframe tbody tr th {\n",
       "        vertical-align: top;\n",
       "    }\n",
       "\n",
       "    .dataframe thead th {\n",
       "        text-align: right;\n",
       "    }\n",
       "</style>\n",
       "<table border=\"1\" class=\"dataframe\">\n",
       "  <thead>\n",
       "    <tr style=\"text-align: right;\">\n",
       "      <th></th>\n",
       "      <th>WHOIS_REGDATE</th>\n",
       "      <th>WHOIS_UPDATED_DATE</th>\n",
       "    </tr>\n",
       "  </thead>\n",
       "  <tbody>\n",
       "    <tr>\n",
       "      <th>0</th>\n",
       "      <td>None</td>\n",
       "      <td>None</td>\n",
       "    </tr>\n",
       "    <tr>\n",
       "      <th>1</th>\n",
       "      <td>None</td>\n",
       "      <td>None</td>\n",
       "    </tr>\n",
       "    <tr>\n",
       "      <th>2</th>\n",
       "      <td>7/10/1997 4:00</td>\n",
       "      <td>12/09/2013 0:45</td>\n",
       "    </tr>\n",
       "    <tr>\n",
       "      <th>3</th>\n",
       "      <td>12/05/1996 0:00</td>\n",
       "      <td>11/04/2017 0:00</td>\n",
       "    </tr>\n",
       "    <tr>\n",
       "      <th>4</th>\n",
       "      <td>3/08/2016 14:30</td>\n",
       "      <td>3/10/2016 3:45</td>\n",
       "    </tr>\n",
       "  </tbody>\n",
       "</table>\n",
       "</div>"
      ],
      "text/plain": [
       "     WHOIS_REGDATE WHOIS_UPDATED_DATE\n",
       "0             None               None\n",
       "1             None               None\n",
       "2   7/10/1997 4:00    12/09/2013 0:45\n",
       "3  12/05/1996 0:00    11/04/2017 0:00\n",
       "4  3/08/2016 14:30     3/10/2016 3:45"
      ]
     },
     "execution_count": 168,
     "metadata": {},
     "output_type": "execute_result"
    }
   ],
   "source": [
    "df_train[['WHOIS_REGDATE', 'WHOIS_UPDATED_DATE']].head()\n"
   ]
  },
  {
   "cell_type": "code",
   "execution_count": 176,
   "metadata": {},
   "outputs": [
    {
     "data": {
      "text/plain": [
       "15    939\n",
       "14    365\n",
       "4      89\n",
       "16     30\n",
       "22      5\n",
       "1       3\n",
       "Name: WHOIS_REGDATE, dtype: int64"
      ]
     },
     "execution_count": 176,
     "metadata": {},
     "output_type": "execute_result"
    }
   ],
   "source": [
    "df_train['WHOIS_REGDATE'].apply(lambda x: len(x)).value_counts()\n"
   ]
  },
  {
   "cell_type": "code",
   "execution_count": 162,
   "metadata": {},
   "outputs": [
    {
     "data": {
      "text/plain": [
       "15    843\n",
       "14    384\n",
       "16    103\n",
       "4      96\n",
       "22      5\n",
       "Name: WHOIS_UPDATED_DATE, dtype: int64"
      ]
     },
     "execution_count": 162,
     "metadata": {},
     "output_type": "execute_result"
    }
   ],
   "source": [
    "df_train['WHOIS_UPDATED_DATE'].apply(lambda x: len(x)).value_counts()\n"
   ]
  },
  {
   "cell_type": "code",
   "execution_count": 101,
   "metadata": {},
   "outputs": [
    {
     "name": "stdout",
     "output_type": "stream",
     "text": [
      "{'b', '0', 'None'}\n"
     ]
    }
   ],
   "source": [
    "non_date_values = set([s for s in df_train.WHOIS_REGDATE.values if len(s) < 6])\n",
    "non_date_values = non_date_values.union(\n",
    "    set([s for s in df_train.WHOIS_UPDATED_DATE.values if len(s) < 6]))\n",
    "print(non_date_values)\n"
   ]
  },
  {
   "cell_type": "markdown",
   "metadata": {},
   "source": [
    "There are basically two date formats in the columns: `'%Y-%m-%dT%H:%M:%S.0Z'` and `'%d/%m/%Y %H:%M'`. The last one should always have length 16 to be properly read by the `pd.to_datetime()` function, but there are values with length 14 and 15. Values that have length 1 or 4 are missing values. We need to transform the date values to have correct string format."
   ]
  },
  {
   "cell_type": "code",
   "execution_count": 174,
   "metadata": {},
   "outputs": [],
   "source": [
    "def transform_dates(df, col):\n",
    "    \"\"\"\n",
    "    Transforms date values from different string formats to '%d/%m/%Y %H:%M'.\n",
    "    Uses string length of a given value as the basic parameter.\n",
    "    Input: dataframe and name of the column to be transformed.\n",
    "    Returns: list of date values in '%d/%m/%Y %H:%M' format.\n",
    "\n",
    "    Examples of possible input values '12/05/1996 0:00', '3/08/2016 14:30',\n",
    "    '7/10/1997 4:00', '2017-03-07T22:02:38.0Z'. Other inputs will be defauled to\n",
    "    '31/12/1960 23:59'.\n",
    "    \"\"\"\n",
    "    new_date_vals = []\n",
    "    for date in df[col]:\n",
    "        if len(date) == 14:  # ex. '7/10/1997 4:00'\n",
    "            day_ = '0' + date.split(' ')[0]\n",
    "            time_ = '0' + date.split(' ')[1]\n",
    "            date_ = day_ + ' '+time_\n",
    "        elif len(date) == 15:  # ex. '12/05/1996 0:00', '3/08/2016 14:30'\n",
    "            day_ = date.split(' ')[0]\n",
    "            time_ = date.split(' ')[1]\n",
    "            if len(time_) == 4:  # ex. 0:00\n",
    "                time_ = '0' + time_\n",
    "            else:\n",
    "                day_ = '0' + day_\n",
    "            date_ = day_ + ' '+time_\n",
    "        elif len(date) == 22:  # ex. '2017-03-07T22:02:38.0Z'\n",
    "            date_ = date[8:10]+'/'+date[5:7]+'/'+date[:4]+' '+date[11:16]\n",
    "        elif len(date) == 16:  # ex. '12/09/2013 0:45', these should not be changed\n",
    "            date_ = date\n",
    "        else:\n",
    "            date_ = '31/12/1960 23:59'\n",
    "        new_date_vals.append(date_)\n",
    "    df[col+'_TS'] = pd.to_datetime(new_date_vals)\n"
   ]
  },
  {
   "cell_type": "code",
   "execution_count": 164,
   "metadata": {},
   "outputs": [],
   "source": [
    "transform_dates(df=df_train, col='WHOIS_REGDATE')\n",
    "transform_dates(df=df_train, col='WHOIS_UPDATED_DATE')\n"
   ]
  },
  {
   "cell_type": "markdown",
   "metadata": {},
   "source": [
    "Original columns with date values contain missing values. They are transformed by the `transform_dates()` function into `1969-12-31 23:59:00`. However, one should not forget that these values were obtained from missing ones. One possible way to handle this is to create a new column that would indicate whether a respective original date column has a missing value."
   ]
  },
  {
   "cell_type": "code",
   "execution_count": 167,
   "metadata": {},
   "outputs": [
    {
     "data": {
      "text/html": [
       "<div>\n",
       "<style scoped>\n",
       "    .dataframe tbody tr th:only-of-type {\n",
       "        vertical-align: middle;\n",
       "    }\n",
       "\n",
       "    .dataframe tbody tr th {\n",
       "        vertical-align: top;\n",
       "    }\n",
       "\n",
       "    .dataframe thead th {\n",
       "        text-align: right;\n",
       "    }\n",
       "</style>\n",
       "<table border=\"1\" class=\"dataframe\">\n",
       "  <thead>\n",
       "    <tr style=\"text-align: right;\">\n",
       "      <th></th>\n",
       "      <th>WHOIS_REGDATE</th>\n",
       "      <th>WHOIS_UPDATED_DATE</th>\n",
       "      <th>WHOIS_REGDATE_TS</th>\n",
       "      <th>WHOIS_UPDATED_DATE_TS</th>\n",
       "    </tr>\n",
       "  </thead>\n",
       "  <tbody>\n",
       "    <tr>\n",
       "      <th>0</th>\n",
       "      <td>None</td>\n",
       "      <td>None</td>\n",
       "      <td>1960-12-31 23:59:00</td>\n",
       "      <td>1960-12-31 23:59:00</td>\n",
       "    </tr>\n",
       "    <tr>\n",
       "      <th>1</th>\n",
       "      <td>None</td>\n",
       "      <td>None</td>\n",
       "      <td>1960-12-31 23:59:00</td>\n",
       "      <td>1960-12-31 23:59:00</td>\n",
       "    </tr>\n",
       "    <tr>\n",
       "      <th>2</th>\n",
       "      <td>7/10/1997 4:00</td>\n",
       "      <td>12/09/2013 0:45</td>\n",
       "      <td>1997-07-10 04:00:00</td>\n",
       "      <td>2013-12-09 00:45:00</td>\n",
       "    </tr>\n",
       "    <tr>\n",
       "      <th>3</th>\n",
       "      <td>12/05/1996 0:00</td>\n",
       "      <td>11/04/2017 0:00</td>\n",
       "      <td>1996-12-05 00:00:00</td>\n",
       "      <td>2017-11-04 00:00:00</td>\n",
       "    </tr>\n",
       "    <tr>\n",
       "      <th>4</th>\n",
       "      <td>3/08/2016 14:30</td>\n",
       "      <td>3/10/2016 3:45</td>\n",
       "      <td>2016-03-08 14:30:00</td>\n",
       "      <td>2016-03-10 03:45:00</td>\n",
       "    </tr>\n",
       "  </tbody>\n",
       "</table>\n",
       "</div>"
      ],
      "text/plain": [
       "     WHOIS_REGDATE WHOIS_UPDATED_DATE    WHOIS_REGDATE_TS  \\\n",
       "0             None               None 1960-12-31 23:59:00   \n",
       "1             None               None 1960-12-31 23:59:00   \n",
       "2   7/10/1997 4:00    12/09/2013 0:45 1997-07-10 04:00:00   \n",
       "3  12/05/1996 0:00    11/04/2017 0:00 1996-12-05 00:00:00   \n",
       "4  3/08/2016 14:30     3/10/2016 3:45 2016-03-08 14:30:00   \n",
       "\n",
       "  WHOIS_UPDATED_DATE_TS  \n",
       "0   1960-12-31 23:59:00  \n",
       "1   1960-12-31 23:59:00  \n",
       "2   2013-12-09 00:45:00  \n",
       "3   2017-11-04 00:00:00  \n",
       "4   2016-03-10 03:45:00  "
      ]
     },
     "execution_count": 167,
     "metadata": {},
     "output_type": "execute_result"
    }
   ],
   "source": [
    "# having a look at theoriginal and modified date columns\n",
    "date_cols = ['WHOIS_REGDATE', 'WHOIS_UPDATED_DATE',\n",
    "             'WHOIS_REGDATE_TS', 'WHOIS_UPDATED_DATE_TS']\n",
    "df_train[date_cols].head()\n"
   ]
  },
  {
   "cell_type": "code",
   "execution_count": 171,
   "metadata": {},
   "outputs": [
    {
     "data": {
      "text/plain": [
       "WHOIS_REGDATE_TS         92\n",
       "WHOIS_UPDATED_DATE_TS    96\n",
       "dtype: int64"
      ]
     },
     "execution_count": 171,
     "metadata": {},
     "output_type": "execute_result"
    }
   ],
   "source": [
    "# number of missing values in the date columns\n",
    "# these should be taken into account as well\n",
    "(df_train[['WHOIS_REGDATE_TS', 'WHOIS_UPDATED_DATE_TS']]\n",
    " == '1960-12-31 23:59:00').sum()\n"
   ]
  },
  {
   "cell_type": "markdown",
   "metadata": {
    "tags": []
   },
   "source": [
    "## Choosing columns to model with\n",
    "\n",
    "In this section, we would like to make a preliminary selection of columns. The decision whether to drop a column from further consideration will be based on practical reasons such as:\n",
    "- column contains either too many or too few unique values\n",
    "- column contains many missing values\n",
    "- column contains a lot of unstructured text\n",
    "- categorical column contains too many categories, and encoding leads to large memory usage\n",
    "- numeric column correlates well with another column or columns"
   ]
  },
  {
   "cell_type": "code",
   "execution_count": 189,
   "metadata": {},
   "outputs": [
    {
     "name": "stdout",
     "output_type": "stream",
     "text": [
      "<class 'pandas.core.frame.DataFrame'>\n",
      "RangeIndex: 1431 entries, 0 to 1430\n",
      "Data columns (total 23 columns):\n",
      " #   Column                     Non-Null Count  Dtype         \n",
      "---  ------                     --------------  -----         \n",
      " 0   URL                        1431 non-null   object        \n",
      " 1   URL_LENGTH                 1431 non-null   int64         \n",
      " 2   NUMBER_SPECIAL_CHARACTERS  1431 non-null   int64         \n",
      " 3   CHARSET                    1431 non-null   object        \n",
      " 4   SERVER                     1430 non-null   object        \n",
      " 5   CONTENT_LENGTH             786 non-null    float64       \n",
      " 6   WHOIS_COUNTRY              1431 non-null   object        \n",
      " 7   WHOIS_STATEPRO             1431 non-null   object        \n",
      " 8   WHOIS_REGDATE              1431 non-null   object        \n",
      " 9   WHOIS_UPDATED_DATE         1431 non-null   object        \n",
      " 10  TCP_CONVERSATION_EXCHANGE  1431 non-null   int64         \n",
      " 11  DIST_REMOTE_TCP_PORT       1431 non-null   int64         \n",
      " 12  REMOTE_IPS                 1431 non-null   int64         \n",
      " 13  APP_BYTES                  1431 non-null   int64         \n",
      " 14  SOURCE_APP_PACKETS         1431 non-null   int64         \n",
      " 15  REMOTE_APP_PACKETS         1431 non-null   int64         \n",
      " 16  SOURCE_APP_BYTES           1431 non-null   int64         \n",
      " 17  REMOTE_APP_BYTES           1431 non-null   int64         \n",
      " 18  APP_PACKETS                1431 non-null   int64         \n",
      " 19  DNS_QUERY_TIMES            1430 non-null   float64       \n",
      " 20  Type                       1431 non-null   int64         \n",
      " 21  WHOIS_REGDATE_TS           1431 non-null   datetime64[ns]\n",
      " 22  WHOIS_UPDATED_DATE_TS      1431 non-null   datetime64[ns]\n",
      "dtypes: datetime64[ns](2), float64(2), int64(12), object(7)\n",
      "memory usage: 257.3+ KB\n"
     ]
    }
   ],
   "source": [
    "# list of columns, their data types, amount of missing values in float64-type columns\n",
    "df_train.info()\n"
   ]
  },
  {
   "cell_type": "markdown",
   "metadata": {},
   "source": [
    "Having a look at the number of unique values in columns can also be interesting. It may help to decide which columns to remove from consideration, for example constant columns. \n",
    "\n",
    "Looking at the number of unique values in combination with the `target` column, can help to understand if columns have valuable information for distinguishing between `positives` and `negatives`. Here we can see that the column *CHARSET* has 9 unique values in total. Almost all unique values are present in both target classes.\n",
    "On the other hand, the columns like *SERVER* may be good for differentiating between the target classes. They have many unique values, but only some of them are present in the `positive` class."
   ]
  },
  {
   "cell_type": "code",
   "execution_count": 172,
   "metadata": {},
   "outputs": [
    {
     "data": {
      "text/html": [
       "<div>\n",
       "<style scoped>\n",
       "    .dataframe tbody tr th:only-of-type {\n",
       "        vertical-align: middle;\n",
       "    }\n",
       "\n",
       "    .dataframe tbody tr th {\n",
       "        vertical-align: top;\n",
       "    }\n",
       "\n",
       "    .dataframe thead th {\n",
       "        text-align: right;\n",
       "    }\n",
       "</style>\n",
       "<table border=\"1\" class=\"dataframe\">\n",
       "  <thead>\n",
       "    <tr style=\"text-align: right;\">\n",
       "      <th></th>\n",
       "      <th>0</th>\n",
       "      <th>1</th>\n",
       "      <th>unique_vals</th>\n",
       "    </tr>\n",
       "  </thead>\n",
       "  <tbody>\n",
       "    <tr>\n",
       "      <th>URL</th>\n",
       "      <td>1272</td>\n",
       "      <td>159</td>\n",
       "      <td>1431</td>\n",
       "    </tr>\n",
       "    <tr>\n",
       "      <th>URL_LENGTH</th>\n",
       "      <td>124</td>\n",
       "      <td>68</td>\n",
       "      <td>135</td>\n",
       "    </tr>\n",
       "    <tr>\n",
       "      <th>NUMBER_SPECIAL_CHARACTERS</th>\n",
       "      <td>26</td>\n",
       "      <td>24</td>\n",
       "      <td>29</td>\n",
       "    </tr>\n",
       "    <tr>\n",
       "      <th>CHARSET</th>\n",
       "      <td>8</td>\n",
       "      <td>7</td>\n",
       "      <td>9</td>\n",
       "    </tr>\n",
       "    <tr>\n",
       "      <th>SERVER</th>\n",
       "      <td>231</td>\n",
       "      <td>27</td>\n",
       "      <td>239</td>\n",
       "    </tr>\n",
       "    <tr>\n",
       "      <th>CONTENT_LENGTH</th>\n",
       "      <td>500</td>\n",
       "      <td>48</td>\n",
       "      <td>540</td>\n",
       "    </tr>\n",
       "    <tr>\n",
       "      <th>WHOIS_COUNTRY</th>\n",
       "      <td>42</td>\n",
       "      <td>21</td>\n",
       "      <td>49</td>\n",
       "    </tr>\n",
       "    <tr>\n",
       "      <th>WHOIS_STATEPRO</th>\n",
       "      <td>164</td>\n",
       "      <td>36</td>\n",
       "      <td>182</td>\n",
       "    </tr>\n",
       "    <tr>\n",
       "      <th>WHOIS_REGDATE</th>\n",
       "      <td>720</td>\n",
       "      <td>54</td>\n",
       "      <td>769</td>\n",
       "    </tr>\n",
       "    <tr>\n",
       "      <th>WHOIS_UPDATED_DATE</th>\n",
       "      <td>519</td>\n",
       "      <td>49</td>\n",
       "      <td>542</td>\n",
       "    </tr>\n",
       "    <tr>\n",
       "      <th>TCP_CONVERSATION_EXCHANGE</th>\n",
       "      <td>96</td>\n",
       "      <td>38</td>\n",
       "      <td>96</td>\n",
       "    </tr>\n",
       "    <tr>\n",
       "      <th>DIST_REMOTE_TCP_PORT</th>\n",
       "      <td>64</td>\n",
       "      <td>8</td>\n",
       "      <td>64</td>\n",
       "    </tr>\n",
       "    <tr>\n",
       "      <th>REMOTE_IPS</th>\n",
       "      <td>18</td>\n",
       "      <td>10</td>\n",
       "      <td>18</td>\n",
       "    </tr>\n",
       "    <tr>\n",
       "      <th>APP_BYTES</th>\n",
       "      <td>608</td>\n",
       "      <td>100</td>\n",
       "      <td>692</td>\n",
       "    </tr>\n",
       "    <tr>\n",
       "      <th>SOURCE_APP_PACKETS</th>\n",
       "      <td>108</td>\n",
       "      <td>42</td>\n",
       "      <td>108</td>\n",
       "    </tr>\n",
       "    <tr>\n",
       "      <th>REMOTE_APP_PACKETS</th>\n",
       "      <td>110</td>\n",
       "      <td>38</td>\n",
       "      <td>110</td>\n",
       "    </tr>\n",
       "    <tr>\n",
       "      <th>SOURCE_APP_BYTES</th>\n",
       "      <td>644</td>\n",
       "      <td>103</td>\n",
       "      <td>738</td>\n",
       "    </tr>\n",
       "    <tr>\n",
       "      <th>REMOTE_APP_BYTES</th>\n",
       "      <td>598</td>\n",
       "      <td>102</td>\n",
       "      <td>686</td>\n",
       "    </tr>\n",
       "    <tr>\n",
       "      <th>APP_PACKETS</th>\n",
       "      <td>108</td>\n",
       "      <td>42</td>\n",
       "      <td>108</td>\n",
       "    </tr>\n",
       "    <tr>\n",
       "      <th>DNS_QUERY_TIMES</th>\n",
       "      <td>9</td>\n",
       "      <td>5</td>\n",
       "      <td>9</td>\n",
       "    </tr>\n",
       "    <tr>\n",
       "      <th>WHOIS_REGDATE_TS</th>\n",
       "      <td>719</td>\n",
       "      <td>53</td>\n",
       "      <td>767</td>\n",
       "    </tr>\n",
       "    <tr>\n",
       "      <th>WHOIS_UPDATED_DATE_TS</th>\n",
       "      <td>519</td>\n",
       "      <td>49</td>\n",
       "      <td>542</td>\n",
       "    </tr>\n",
       "  </tbody>\n",
       "</table>\n",
       "</div>"
      ],
      "text/plain": [
       "                              0    1  unique_vals\n",
       "URL                        1272  159         1431\n",
       "URL_LENGTH                  124   68          135\n",
       "NUMBER_SPECIAL_CHARACTERS    26   24           29\n",
       "CHARSET                       8    7            9\n",
       "SERVER                      231   27          239\n",
       "CONTENT_LENGTH              500   48          540\n",
       "WHOIS_COUNTRY                42   21           49\n",
       "WHOIS_STATEPRO              164   36          182\n",
       "WHOIS_REGDATE               720   54          769\n",
       "WHOIS_UPDATED_DATE          519   49          542\n",
       "TCP_CONVERSATION_EXCHANGE    96   38           96\n",
       "DIST_REMOTE_TCP_PORT         64    8           64\n",
       "REMOTE_IPS                   18   10           18\n",
       "APP_BYTES                   608  100          692\n",
       "SOURCE_APP_PACKETS          108   42          108\n",
       "REMOTE_APP_PACKETS          110   38          110\n",
       "SOURCE_APP_BYTES            644  103          738\n",
       "REMOTE_APP_BYTES            598  102          686\n",
       "APP_PACKETS                 108   42          108\n",
       "DNS_QUERY_TIMES               9    5            9\n",
       "WHOIS_REGDATE_TS            719   53          767\n",
       "WHOIS_UPDATED_DATE_TS       519   49          542"
      ]
     },
     "execution_count": 172,
     "metadata": {},
     "output_type": "execute_result"
    }
   ],
   "source": [
    "# unique values\n",
    "d_unique_vals = {}\n",
    "for col in df_train.columns.tolist():\n",
    "    d_unique_vals[col] = df_train[col].nunique()\n",
    "\n",
    "(df_train.groupby('Type').nunique().T.\n",
    " merge(pd.Series(d_unique_vals, name='unique_vals'),\n",
    "       right_index=True, left_index=True)\n",
    " )\n"
   ]
  },
  {
   "cell_type": "markdown",
   "metadata": {
    "tags": []
   },
   "source": [
    "### Categorical features\n",
    "\n",
    "There are 7 string-based columns in the dataset."
   ]
  },
  {
   "cell_type": "code",
   "execution_count": 269,
   "metadata": {},
   "outputs": [
    {
     "data": {
      "text/html": [
       "<div>\n",
       "<style scoped>\n",
       "    .dataframe tbody tr th:only-of-type {\n",
       "        vertical-align: middle;\n",
       "    }\n",
       "\n",
       "    .dataframe tbody tr th {\n",
       "        vertical-align: top;\n",
       "    }\n",
       "\n",
       "    .dataframe thead th {\n",
       "        text-align: right;\n",
       "    }\n",
       "</style>\n",
       "<table border=\"1\" class=\"dataframe\">\n",
       "  <thead>\n",
       "    <tr style=\"text-align: right;\">\n",
       "      <th></th>\n",
       "      <th>URL</th>\n",
       "      <th>CHARSET</th>\n",
       "      <th>SERVER</th>\n",
       "      <th>WHOIS_COUNTRY</th>\n",
       "      <th>WHOIS_STATEPRO</th>\n",
       "      <th>WHOIS_REGDATE</th>\n",
       "      <th>WHOIS_UPDATED_DATE</th>\n",
       "    </tr>\n",
       "  </thead>\n",
       "  <tbody>\n",
       "    <tr>\n",
       "      <th>0</th>\n",
       "      <td>B0_2314</td>\n",
       "      <td>UTF-8</td>\n",
       "      <td>Apache/2.4.10</td>\n",
       "      <td>None</td>\n",
       "      <td>None</td>\n",
       "      <td>None</td>\n",
       "      <td>None</td>\n",
       "    </tr>\n",
       "    <tr>\n",
       "      <th>1</th>\n",
       "      <td>B0_911</td>\n",
       "      <td>us-ascii</td>\n",
       "      <td>Microsoft-HTTPAPI/2.0</td>\n",
       "      <td>None</td>\n",
       "      <td>None</td>\n",
       "      <td>None</td>\n",
       "      <td>None</td>\n",
       "    </tr>\n",
       "    <tr>\n",
       "      <th>2</th>\n",
       "      <td>B0_113</td>\n",
       "      <td>ISO-8859-1</td>\n",
       "      <td>nginx</td>\n",
       "      <td>US</td>\n",
       "      <td>AK</td>\n",
       "      <td>7/10/1997 4:00</td>\n",
       "      <td>12/09/2013 0:45</td>\n",
       "    </tr>\n",
       "    <tr>\n",
       "      <th>3</th>\n",
       "      <td>B0_403</td>\n",
       "      <td>UTF-8</td>\n",
       "      <td>None</td>\n",
       "      <td>US</td>\n",
       "      <td>TX</td>\n",
       "      <td>12/05/1996 0:00</td>\n",
       "      <td>11/04/2017 0:00</td>\n",
       "    </tr>\n",
       "    <tr>\n",
       "      <th>4</th>\n",
       "      <td>B0_2064</td>\n",
       "      <td>UTF-8</td>\n",
       "      <td>nginx</td>\n",
       "      <td>SC</td>\n",
       "      <td>Mahe</td>\n",
       "      <td>3/08/2016 14:30</td>\n",
       "      <td>3/10/2016 3:45</td>\n",
       "    </tr>\n",
       "    <tr>\n",
       "      <th>...</th>\n",
       "      <td>...</td>\n",
       "      <td>...</td>\n",
       "      <td>...</td>\n",
       "      <td>...</td>\n",
       "      <td>...</td>\n",
       "      <td>...</td>\n",
       "      <td>...</td>\n",
       "    </tr>\n",
       "    <tr>\n",
       "      <th>1426</th>\n",
       "      <td>M4_45</td>\n",
       "      <td>UTF-8</td>\n",
       "      <td>Apache</td>\n",
       "      <td>ES</td>\n",
       "      <td>Barcelona</td>\n",
       "      <td>17/09/2008 0:00</td>\n",
       "      <td>2/09/2016 0:00</td>\n",
       "    </tr>\n",
       "    <tr>\n",
       "      <th>1427</th>\n",
       "      <td>M4_48</td>\n",
       "      <td>UTF-8</td>\n",
       "      <td>Apache</td>\n",
       "      <td>ES</td>\n",
       "      <td>Barcelona</td>\n",
       "      <td>17/09/2008 0:00</td>\n",
       "      <td>2/09/2016 0:00</td>\n",
       "    </tr>\n",
       "    <tr>\n",
       "      <th>1428</th>\n",
       "      <td>B0_162</td>\n",
       "      <td>utf-8</td>\n",
       "      <td>Apache/2.2.16 (Debian)</td>\n",
       "      <td>US</td>\n",
       "      <td>FL</td>\n",
       "      <td>15/02/1999 0:00</td>\n",
       "      <td>15/07/2015 0:00</td>\n",
       "    </tr>\n",
       "    <tr>\n",
       "      <th>1429</th>\n",
       "      <td>B0_1152</td>\n",
       "      <td>ISO-8859-1</td>\n",
       "      <td>cloudflare-nginx</td>\n",
       "      <td>US</td>\n",
       "      <td>CA</td>\n",
       "      <td>1/04/1998 0:00</td>\n",
       "      <td>9/12/2016 0:00</td>\n",
       "    </tr>\n",
       "    <tr>\n",
       "      <th>1430</th>\n",
       "      <td>B0_676</td>\n",
       "      <td>utf-8</td>\n",
       "      <td>Microsoft-IIS/8.5</td>\n",
       "      <td>US</td>\n",
       "      <td>Wisconsin</td>\n",
       "      <td>14/11/2008 0:00</td>\n",
       "      <td>20/11/2013 0:00</td>\n",
       "    </tr>\n",
       "  </tbody>\n",
       "</table>\n",
       "<p>1431 rows × 7 columns</p>\n",
       "</div>"
      ],
      "text/plain": [
       "          URL     CHARSET                  SERVER WHOIS_COUNTRY  \\\n",
       "0     B0_2314       UTF-8           Apache/2.4.10          None   \n",
       "1      B0_911    us-ascii   Microsoft-HTTPAPI/2.0          None   \n",
       "2      B0_113  ISO-8859-1                   nginx            US   \n",
       "3      B0_403       UTF-8                    None            US   \n",
       "4     B0_2064       UTF-8                   nginx            SC   \n",
       "...       ...         ...                     ...           ...   \n",
       "1426    M4_45       UTF-8                  Apache            ES   \n",
       "1427    M4_48       UTF-8                  Apache            ES   \n",
       "1428   B0_162       utf-8  Apache/2.2.16 (Debian)            US   \n",
       "1429  B0_1152  ISO-8859-1        cloudflare-nginx            US   \n",
       "1430   B0_676       utf-8       Microsoft-IIS/8.5            US   \n",
       "\n",
       "     WHOIS_STATEPRO    WHOIS_REGDATE WHOIS_UPDATED_DATE  \n",
       "0              None             None               None  \n",
       "1              None             None               None  \n",
       "2                AK   7/10/1997 4:00    12/09/2013 0:45  \n",
       "3                TX  12/05/1996 0:00    11/04/2017 0:00  \n",
       "4              Mahe  3/08/2016 14:30     3/10/2016 3:45  \n",
       "...             ...              ...                ...  \n",
       "1426      Barcelona  17/09/2008 0:00     2/09/2016 0:00  \n",
       "1427      Barcelona  17/09/2008 0:00     2/09/2016 0:00  \n",
       "1428             FL  15/02/1999 0:00    15/07/2015 0:00  \n",
       "1429             CA   1/04/1998 0:00     9/12/2016 0:00  \n",
       "1430      Wisconsin  14/11/2008 0:00    20/11/2013 0:00  \n",
       "\n",
       "[1431 rows x 7 columns]"
      ]
     },
     "execution_count": 269,
     "metadata": {},
     "output_type": "execute_result"
    }
   ],
   "source": [
    "df_train.select_dtypes(exclude=['number', 'datetime'])"
   ]
  },
  {
   "cell_type": "markdown",
   "metadata": {},
   "source": [
    "The colunm *URL* has as many values as the rows. Therefore we will treat this column as the index and will not use it for modell training. \n",
    "\n",
    "We will not use *WHOIS_REGDATE* and *WHOIS_UPDATED_DATE* columns further. We found a way how to format them into datetime: *WHOIS_REGDATE_TS* and *WHOIS_UPDATED_DATE_TS*. However, in the new datasets these columns may have values that are not covered by our formatting. Therefore using them may lead to faults."
   ]
  },
  {
   "cell_type": "code",
   "execution_count": 187,
   "metadata": {},
   "outputs": [
    {
     "data": {
      "text/plain": [
       "1431"
      ]
     },
     "execution_count": 187,
     "metadata": {},
     "output_type": "execute_result"
    }
   ],
   "source": [
    "df_train['URL'].nunique()\n"
   ]
  },
  {
   "cell_type": "markdown",
   "metadata": {},
   "source": [
    "*CHARSET* has both lowercase and uppercase versions values same values. It contains in fact 7 unique values. If we will use this column, we will make an uppercase varsion of it, one-hot-encode it and ignore unseen new values."
   ]
  },
  {
   "cell_type": "code",
   "execution_count": 296,
   "metadata": {},
   "outputs": [
    {
     "data": {
      "text/plain": [
       "UTF-8           837\n",
       "ISO-8859-1      461\n",
       "US-ASCII        124\n",
       "NONE              6\n",
       "WINDOWS-1251      1\n",
       "ISO-8859          1\n",
       "WINDOWS-1252      1\n",
       "Name: CHARSET, dtype: int64"
      ]
     },
     "execution_count": 296,
     "metadata": {},
     "output_type": "execute_result"
    }
   ],
   "source": [
    "df_train['CHARSET'].str.upper().value_counts()\n"
   ]
  },
  {
   "cell_type": "code",
   "execution_count": 303,
   "metadata": {},
   "outputs": [
    {
     "data": {
      "text/html": [
       "<div>\n",
       "<style scoped>\n",
       "    .dataframe tbody tr th:only-of-type {\n",
       "        vertical-align: middle;\n",
       "    }\n",
       "\n",
       "    .dataframe tbody tr th {\n",
       "        vertical-align: top;\n",
       "    }\n",
       "\n",
       "    .dataframe thead th {\n",
       "        text-align: right;\n",
       "    }\n",
       "</style>\n",
       "<table border=\"1\" class=\"dataframe\">\n",
       "  <thead>\n",
       "    <tr style=\"text-align: right;\">\n",
       "      <th>Type</th>\n",
       "      <th>0</th>\n",
       "      <th>1</th>\n",
       "    </tr>\n",
       "    <tr>\n",
       "      <th>CHARSET</th>\n",
       "      <th></th>\n",
       "      <th></th>\n",
       "    </tr>\n",
       "  </thead>\n",
       "  <tbody>\n",
       "    <tr>\n",
       "      <th>ISO-8859</th>\n",
       "      <td>1.0</td>\n",
       "      <td>NaN</td>\n",
       "    </tr>\n",
       "    <tr>\n",
       "      <th>ISO-8859-1</th>\n",
       "      <td>311.0</td>\n",
       "      <td>39.0</td>\n",
       "    </tr>\n",
       "    <tr>\n",
       "      <th>None</th>\n",
       "      <td>5.0</td>\n",
       "      <td>1.0</td>\n",
       "    </tr>\n",
       "    <tr>\n",
       "      <th>UTF-8</th>\n",
       "      <td>448.0</td>\n",
       "      <td>92.0</td>\n",
       "    </tr>\n",
       "    <tr>\n",
       "      <th>iso-8859-1</th>\n",
       "      <td>101.0</td>\n",
       "      <td>10.0</td>\n",
       "    </tr>\n",
       "    <tr>\n",
       "      <th>us-ascii</th>\n",
       "      <td>121.0</td>\n",
       "      <td>3.0</td>\n",
       "    </tr>\n",
       "    <tr>\n",
       "      <th>utf-8</th>\n",
       "      <td>284.0</td>\n",
       "      <td>13.0</td>\n",
       "    </tr>\n",
       "    <tr>\n",
       "      <th>windows-1251</th>\n",
       "      <td>NaN</td>\n",
       "      <td>1.0</td>\n",
       "    </tr>\n",
       "    <tr>\n",
       "      <th>windows-1252</th>\n",
       "      <td>1.0</td>\n",
       "      <td>NaN</td>\n",
       "    </tr>\n",
       "  </tbody>\n",
       "</table>\n",
       "</div>"
      ],
      "text/plain": [
       "Type              0     1\n",
       "CHARSET                  \n",
       "ISO-8859        1.0   NaN\n",
       "ISO-8859-1    311.0  39.0\n",
       "None            5.0   1.0\n",
       "UTF-8         448.0  92.0\n",
       "iso-8859-1    101.0  10.0\n",
       "us-ascii      121.0   3.0\n",
       "utf-8         284.0  13.0\n",
       "windows-1251    NaN   1.0\n",
       "windows-1252    1.0   NaN"
      ]
     },
     "execution_count": 303,
     "metadata": {},
     "output_type": "execute_result"
    }
   ],
   "source": [
    "df_train.groupby('Type')['CHARSET'].value_counts().unstack().T\n"
   ]
  },
  {
   "cell_type": "markdown",
   "metadata": {},
   "source": [
    "*SERVER* contains many different values that are very unstructured. One could use the length of the servername or another representation of this feature."
   ]
  },
  {
   "cell_type": "code",
   "execution_count": 235,
   "metadata": {},
   "outputs": [],
   "source": [
    "df_train['SERVER_LENGTH'] = df_train['SERVER'].apply(lambda x: len(str(x)))\n"
   ]
  },
  {
   "cell_type": "code",
   "execution_count": 199,
   "metadata": {},
   "outputs": [
    {
     "data": {
      "text/plain": [
       "array(['.V01 Apache', '294', 'ATS', 'ATS/5.3.0',\n",
       "       'Aeria Games & Entertainment', 'AkamaiGHost', 'AmazonS3', 'Apache',\n",
       "       'Apache-Coyote/1.1',\n",
       "       'Apache/1.3.27 (Unix)  (Red-Hat/Linux) mod_perl/1.26 PHP/4.3.3 FrontPage/5.0.2 mod_ssl/2.8.12 OpenSSL/0.9.6b',\n",
       "       'Apache/1.3.27 (Unix) PHP/4.4.1',\n",
       "       'Apache/1.3.31 (Unix) PHP/4.3.9 mod_perl/1.29 rus/PL30.20',\n",
       "       'Apache/1.3.33 (Unix) mod_ssl/2.8.24 OpenSSL/0.9.7e-p1 PHP/4.4.8',\n",
       "       'Apache/1.3.34 (Unix) PHP/4.4.4',\n",
       "       'Apache/1.3.37 (Unix) mod_perl/1.29 mod_ssl/2.8.28 OpenSSL/0.9.7e-p1',\n",
       "       'Apache/1.3.39 (Unix) PHP/5.2.5 mod_auth_passthrough/1.8 mod_bwlimited/1.4 mod_log_bytes/1.2 mod_gzip/1.3.26.1a FrontPage/5.0.2.2635 DAV/1.0.3 mod_ssl/2.8.30 OpenSSL/0.9.7a',\n",
       "       'Apache/1.3.42 Ben-SSL/1.60 (Unix) mod_gzip/1.3.26.1a mod_fastcgi/2.4.6 mod_throttle/3.1.2 Chili!Soft-ASP/3.6.2 FrontPage/5.0.2.2635 mod_perl/1.31 PHP/4.4.9',\n",
       "       'Apache/2', 'Apache/2.0.52 (Red Hat)',\n",
       "       'Apache/2.0.63 (Unix) mod_ssl/2.0.63 OpenSSL/0.9.8e-fips-rhel5 mod_auth_passthrough/2.1 mod_bwlimited/1.4 PHP/5.3.6',\n",
       "       'Apache/2.2.0 (Fedora)', 'Apache/2.2.10 (Linux/SUSE)',\n",
       "       'Apache/2.2.11 (Unix) PHP/5.2.6',\n",
       "       'Apache/2.2.13 (Unix) mod_ssl/2.2.13 OpenSSL/0.9.8e-fips-rhel5 mod_auth_passthrough/2.1 mod_bwlimited/1.4 PHP/5.2.10',\n",
       "       'Apache/2.2.14 (FreeBSD) mod_ssl/2.2.14 OpenSSL/0.9.8y DAV/2 PHP/5.2.12 with Suhosin-Patch',\n",
       "       'Apache/2.2.14 (Ubuntu)',\n",
       "       'Apache/2.2.14 (Unix) mod_ssl/2.2.14 OpenSSL/0.9.8a',\n",
       "       'Apache/2.2.14 (Unix) mod_ssl/2.2.14 OpenSSL/0.9.8e-fips-rhel5',\n",
       "       'Apache/2.2.15 (CentOS)',\n",
       "       'Apache/2.2.15 (CentOS) DAV/2 mod_ssl/2.2.15 OpenSSL/1.0.1e-fips PHP/5.3.3',\n",
       "       'Apache/2.2.15 (Red Hat)', 'Apache/2.2.16 (Debian)',\n",
       "       'Apache/2.2.16 (Unix) mod_ssl/2.2.16 OpenSSL/0.9.8e-fips-rhel5 mod_auth_passthrough/2.1 mod_bwlimited/1.4',\n",
       "       'Apache/2.2.20 (Unix)',\n",
       "       'Apache/2.2.21 (Unix) mod_ssl/2.2.21 OpenSSL/0.9.8e-fips-rhel5 PHP/5.3.10',\n",
       "       'Apache/2.2.22', 'Apache/2.2.22 (Debian)',\n",
       "       'Apache/2.2.22 (Debian) mod_python/3.3.1 Python/2.7.3 mod_ssl/2.2.22 OpenSSL/1.0.1t',\n",
       "       'Apache/2.2.22 (Ubuntu)', 'Apache/2.2.23 (Amazon)',\n",
       "       'Apache/2.2.24 (Unix) DAV/2 PHP/5.3.26 mod_ssl/2.2.24 OpenSSL/0.9.8y',\n",
       "       'Apache/2.2.25 (Unix) mod_ssl/2.2.25 OpenSSL/0.9.8e-fips-rhel5 mod_bwlimited/1.4',\n",
       "       'Apache/2.2.26 (Unix) mod_ssl/2.2.26 OpenSSL/0.9.8e-fips-rhel5 mod_bwlimited/1.4 PHP/5.4.26',\n",
       "       'Apache/2.2.26 (Unix) mod_ssl/2.2.26 OpenSSL/1.0.1e-fips DAV/2 mod_bwlimited/1.4',\n",
       "       'Apache/2.2.27 (CentOS)',\n",
       "       'Apache/2.2.27 (Unix) OpenAM Web Agent/4.0.1-1 mod_ssl/2.2.27 OpenSSL/1.0.1p PHP/5.3.28',\n",
       "       'Apache/2.2.29 (Amazon)',\n",
       "       'Apache/2.2.29 (Unix) mod_ssl/2.2.29 OpenSSL/1.0.1e-fips DAV/2 mod_bwlimited/1.4',\n",
       "       'Apache/2.2.29 (Unix) mod_ssl/2.2.29 OpenSSL/1.0.1e-fips mod_bwlimited/1.4',\n",
       "       'Apache/2.2.29 (Unix) mod_ssl/2.2.29 OpenSSL/1.0.1e-fips mod_bwlimited/1.4 PHP/5.4.35',\n",
       "       'Apache/2.2.3 (CentOS)', 'Apache/2.2.3 (Red Hat)',\n",
       "       'Apache/2.2.31 (Amazon)', 'Apache/2.2.31 (CentOS)',\n",
       "       'Apache/2.2.31 (FreeBSD) PHP/5.4.15 mod_ssl/2.2.31 OpenSSL/1.0.2d DAV/2',\n",
       "       'Apache/2.2.31 (Unix) mod_ssl/2.2.31 OpenSSL/0.9.8e-fips-rhel5 mod_bwlimited/1.4',\n",
       "       'Apache/2.2.31 (Unix) mod_ssl/2.2.31 OpenSSL/1.0.1e-fips mod_bwlimited/1.4',\n",
       "       'Apache/2.2.31 (Unix) mod_ssl/2.2.31 OpenSSL/1.0.1e-fips mod_bwlimited/1.4 mod_fcgid/2.3.9',\n",
       "       'Apache/2.2.31 (Unix) mod_ssl/2.2.31 OpenSSL/1.0.1e-fips mod_bwlimited/1.4 mod_perl/2.0.8 Perl/v5.10.1',\n",
       "       'Apache/2.2.32', 'Apache/2.4', 'Apache/2.4.10',\n",
       "       'Apache/2.4.10 (Debian)',\n",
       "       'Apache/2.4.10 (Debian) PHP/5.6.30-0+deb8u1 mod_perl/2.0.9dev Perl/v5.20.2',\n",
       "       'Apache/2.4.10 (Ubuntu)', 'Apache/2.4.10 (Unix) OpenSSL/1.0.1k',\n",
       "       'Apache/2.4.12 (Ubuntu)',\n",
       "       'Apache/2.4.12 (Unix) OpenSSL/1.0.1e-fips mod_bwlimited/1.4',\n",
       "       'Apache/2.4.16 (Ubuntu)',\n",
       "       'Apache/2.4.17 (Unix) OpenSSL/1.0.1e-fips PHP/5.6.19',\n",
       "       'Apache/2.4.18 (Ubuntu)',\n",
       "       'Apache/2.4.18 (Unix) OpenSSL/0.9.8e-fips-rhel5 mod_bwlimited/1.4',\n",
       "       'Apache/2.4.18 (Unix) OpenSSL/1.0.2e Communique/4.1.10',\n",
       "       'Apache/2.4.23 (Unix)',\n",
       "       'Apache/2.4.23 (Unix) OpenSSL/0.9.8e-fips-rhel5 mod_bwlimited/1.4',\n",
       "       'Apache/2.4.23 (Unix) OpenSSL/1.0.1e-fips mod_bwlimited/1.4',\n",
       "       'Apache/2.4.25', 'Apache/2.4.25 (Amazon) OpenSSL/1.0.1k-fips',\n",
       "       'Apache/2.4.25 (Amazon) PHP/7.0.14', 'Apache/2.4.25 (Debian)',\n",
       "       'Apache/2.4.25 (FreeBSD) OpenSSL/1.0.1s-freebsd PHP/5.6.30',\n",
       "       'Apache/2.4.25 (Unix) OpenSSL/1.0.1e-fips mod_bwlimited/1.4',\n",
       "       'Apache/2.4.25 (cPanel) OpenSSL/1.0.1e-fips mod_bwlimited/1.4',\n",
       "       'Apache/2.4.6', 'Apache/2.4.6 (CentOS)',\n",
       "       'Apache/2.4.6 (CentOS) OpenSSL/1.0.1e-fips',\n",
       "       'Apache/2.4.6 (CentOS) OpenSSL/1.0.1e-fips PHP/5.4.16',\n",
       "       'Apache/2.4.6 (CentOS) OpenSSL/1.0.1e-fips PHP/5.4.16 mod_apreq2-20090110/2.8.0 mod_perl/2.0.10 Perl/v5.24.1',\n",
       "       'Apache/2.4.6 (CentOS) OpenSSL/1.0.1e-fips PHP/5.5.38',\n",
       "       'Apache/2.4.6 (CentOS) OpenSSL/1.0.1e-fips PHP/7.0.14',\n",
       "       'Apache/2.4.6 (CentOS) OpenSSL/1.0.1e-fips mod_fcgid/2.3.9 PHP/5.4.16 mod_jk/1.2.40',\n",
       "       'Apache/2.4.6 (CentOS) PHP/5.6.8',\n",
       "       'Apache/2.4.6 (CentOS) mod_fcgid/2.3.9 PHP/5.6.30',\n",
       "       'Apache/2.4.6 (Red Hat Enterprise Linux) OpenSSL/1.0.1e-fips mod_fcgid/2.3.9 Communique/4.2.0',\n",
       "       'Apache/2.4.6 (Unix) mod_jk/1.2.37',\n",
       "       'Apache/2.4.6 (Unix) mod_jk/1.2.37 PHP/5.5.1 OpenSSL/1.0.1g mod_fcgid/2.3.9',\n",
       "       'Apache/2.4.7 (Ubuntu)', 'Apache/Not telling (Unix) AuthTDS/1.1',\n",
       "       'Application-Server', 'Boston.com Frontend', 'CherryPy/3.6.0',\n",
       "       'Cowboy', 'DMS/1.0.42', 'DOSarrest', 'DPS/1.1.8', 'ECD (fll/0790)',\n",
       "       'GSE', 'HTTPDaemon', 'Heptu web server', 'IdeaWebServer/v0.80',\n",
       "       'Jetty(9.0.z-SNAPSHOT)', 'KHL', 'LiteSpeed', 'MI', 'MediaFire',\n",
       "       'Microsoft-HTTPAPI/2.0', 'Microsoft-IIS/6.0', 'Microsoft-IIS/7.0',\n",
       "       'Microsoft-IIS/7.5',\n",
       "       'Microsoft-IIS/7.5; litigation_essentials.lexisnexis.com  9999',\n",
       "       'Microsoft-IIS/8.0', 'Microsoft-IIS/8.5', 'My Arse',\n",
       "       'Nginx (OpenBSD)', 'None', 'Oracle-iPlanet-Web-Server/7.0',\n",
       "       'PWS/8.2.0.7', 'Pagely Gateway/1.5.1', 'Pepyaka/1.11.3',\n",
       "       'Pizza/pepperoni', 'Play', 'Proxy Pandeiro UOL', 'Resin/3.1.8',\n",
       "       'Roxen/5.4.98-r2', 'SSWS', 'Scratch Web Server', 'Server',\n",
       "       'Squeegit/1.2.5 (3_sir)', 'Sucuri/Cloudproxy',\n",
       "       'Sun-ONE-Web-Server/6.1', 'Tengine', 'Varnish',\n",
       "       'Virtuoso/07.20.3217 (Linux) i686-generic-linux-glibc212-64  VDB',\n",
       "       'XXXXXXXXXXXXXXXXXXXXXX', 'Yippee-Ki-Yay', 'YouTubeFrontEnd',\n",
       "       'Zope/(2.13.16; python 2.6.8; linux2) ZServer/1.1',\n",
       "       'barista/5.1.3', 'cloudflare-nginx', 'ebay server', 'fbs',\n",
       "       'gunicorn/19.7.1', 'lighttpd', 'lighttpd/1.4.28',\n",
       "       'marrakesh 1.12.2', 'mw2097.codfw.wmnet', 'mw2101.codfw.wmnet',\n",
       "       'mw2103.codfw.wmnet', 'mw2104.codfw.wmnet', 'mw2106.codfw.wmnet',\n",
       "       'mw2107.codfw.wmnet', 'mw2109.codfw.wmnet', 'mw2110.codfw.wmnet',\n",
       "       'mw2113.codfw.wmnet', 'mw2114.codfw.wmnet', 'mw2164.codfw.wmnet',\n",
       "       'mw2165.codfw.wmnet', 'mw2171.codfw.wmnet', 'mw2172.codfw.wmnet',\n",
       "       'mw2173.codfw.wmnet', 'mw2175.codfw.wmnet', 'mw2176.codfw.wmnet',\n",
       "       'mw2177.codfw.wmnet', 'mw2178.codfw.wmnet', 'mw2180.codfw.wmnet',\n",
       "       'mw2182.codfw.wmnet', 'mw2185.codfw.wmnet', 'mw2187.codfw.wmnet',\n",
       "       'mw2190.codfw.wmnet', 'mw2192.codfw.wmnet', 'mw2197.codfw.wmnet',\n",
       "       'mw2198.codfw.wmnet', 'mw2199.codfw.wmnet', 'mw2224.codfw.wmnet',\n",
       "       'mw2225.codfw.wmnet', 'mw2226.codfw.wmnet', 'mw2228.codfw.wmnet',\n",
       "       'mw2230.codfw.wmnet', 'mw2231.codfw.wmnet', 'mw2232.codfw.wmnet',\n",
       "       'mw2233.codfw.wmnet', 'mw2236.codfw.wmnet', 'mw2238.codfw.wmnet',\n",
       "       'mw2239.codfw.wmnet', 'mw2240.codfw.wmnet', 'mw2241.codfw.wmnet',\n",
       "       'mw2242.codfw.wmnet', 'mw2255.codfw.wmnet', 'mw2257.codfw.wmnet',\n",
       "       'mw2260.codfw.wmnet', 'nginx', 'nginx + Phusion Passenger',\n",
       "       'nginx/0.7.65', 'nginx/0.8.35', 'nginx/0.8.38', 'nginx/0.8.54',\n",
       "       'nginx/0.8.55', 'nginx/1.1.19', 'nginx/1.10.0',\n",
       "       'nginx/1.10.0 (Ubuntu)', 'nginx/1.10.1',\n",
       "       'nginx/1.10.1 + Phusion Passenger 5.0.30', 'nginx/1.10.2',\n",
       "       'nginx/1.10.3', 'nginx/1.11.10', 'nginx/1.11.2', 'nginx/1.11.3',\n",
       "       'nginx/1.12.0', 'nginx/1.13.0', 'nginx/1.2.1', 'nginx/1.2.6',\n",
       "       'nginx/1.4.3', 'nginx/1.4.4', 'nginx/1.4.6 (Ubuntu)',\n",
       "       'nginx/1.6.2', 'nginx/1.6.3', 'nginx/1.6.3 + Phusion Passenger',\n",
       "       'nginx/1.7.12', 'nginx/1.7.4', 'nginx/1.8.0', 'nginx/1.8.1',\n",
       "       'nginx/1.9.13', 'nxfps', 'openresty', 'openresty/1.11.2.1',\n",
       "       'openresty/1.11.2.2', 'squid/3.3.8', 'tsa_c',\n",
       "       'www.lexisnexis.com  9999', nan], dtype=object)"
      ]
     },
     "execution_count": 199,
     "metadata": {},
     "output_type": "execute_result"
    }
   ],
   "source": [
    "df_train['SERVER'].sort_values().unique()"
   ]
  },
  {
   "cell_type": "markdown",
   "metadata": {},
   "source": [
    "*WHOIS_COUNTRY* has both lowercase and uppercase versions values same values. There are in fact 44 unique values, 211 observations are missing the country."
   ]
  },
  {
   "cell_type": "code",
   "execution_count": 271,
   "metadata": {},
   "outputs": [
    {
     "data": {
      "text/plain": [
       "array(['AE', 'AT', 'AU', 'BE', 'BR', 'BS', 'BY', 'CA', 'CH', 'CN', 'CZ',\n",
       "       'Cyprus', 'DE', 'ES', 'FR', 'GB', 'HK', 'IE', 'IL', 'IN', 'IT',\n",
       "       'JP', 'KG', 'KR', 'KY', 'LU', 'LV', 'NL', 'NO', 'None', 'PA', 'PH',\n",
       "       'PK', 'RU', 'SC', 'SE', 'SI', 'TH', 'TR', 'UA', 'UG', 'UK', 'US',\n",
       "       'UY', 'United Kingdom', \"[u'GB'; u'UK']\", 'ru', 'se', 'us'],\n",
       "      dtype=object)"
      ]
     },
     "execution_count": 271,
     "metadata": {},
     "output_type": "execute_result"
    }
   ],
   "source": [
    "df_train['WHOIS_COUNTRY'].sort_values().unique()\n",
    "# {'UK': [\"[U'GB'; U'UK']\", \"UNITED KINGDOM\"],\n",
    "#  'CY': \"CYPRUS\" }\n"
   ]
  },
  {
   "cell_type": "code",
   "execution_count": 270,
   "metadata": {},
   "outputs": [
    {
     "data": {
      "text/plain": [
       "46"
      ]
     },
     "execution_count": 270,
     "metadata": {},
     "output_type": "execute_result"
    }
   ],
   "source": [
    "# 44 unique values if we exclude \"[U'GB'; U'UK']\", \"UNITED KINGDOM\"\n",
    "df_train['WHOIS_COUNTRY'].str.upper().nunique()\n"
   ]
  },
  {
   "cell_type": "code",
   "execution_count": 185,
   "metadata": {},
   "outputs": [
    {
     "data": {
      "text/plain": [
       "US                899\n",
       "NONE              211\n",
       "CA                 76\n",
       "ES                 42\n",
       "AU                 30\n",
       "GB                 17\n",
       "PA                 15\n",
       "JP                 11\n",
       "CN                 10\n",
       "IN                 10\n",
       "CZ                  8\n",
       "UK                  8\n",
       "FR                  6\n",
       "NL                  6\n",
       "CH                  6\n",
       "RU                  6\n",
       "[U'GB'; U'UK']      5\n",
       "KR                  5\n",
       "AT                  4\n",
       "BS                  4\n",
       "PH                  4\n",
       "SE                  4\n",
       "KY                  3\n",
       "TR                  3\n",
       "SC                  3\n",
       "DE                  3\n",
       "HK                  3\n",
       "BE                  3\n",
       "KG                  2\n",
       "CYPRUS              2\n",
       "UY                  2\n",
       "BR                  2\n",
       "IL                  2\n",
       "UA                  2\n",
       "NO                  2\n",
       "SI                  2\n",
       "IE                  1\n",
       "AE                  1\n",
       "BY                  1\n",
       "LV                  1\n",
       "IT                  1\n",
       "PK                  1\n",
       "LU                  1\n",
       "TH                  1\n",
       "UG                  1\n",
       "UNITED KINGDOM      1\n",
       "Name: WHOIS_COUNTRY, dtype: int64"
      ]
     },
     "execution_count": 185,
     "metadata": {},
     "output_type": "execute_result"
    }
   ],
   "source": [
    "df_train['WHOIS_COUNTRY'].str.upper().value_counts()\n"
   ]
  },
  {
   "cell_type": "code",
   "execution_count": 313,
   "metadata": {},
   "outputs": [],
   "source": [
    "# df_train.groupby('WHOIS_COUNTRY')['Type'].mean()\n"
   ]
  },
  {
   "cell_type": "markdown",
   "metadata": {},
   "source": [
    "*WHOIS_STATEPRO* is very mixed. It would be difficult to use it directly for modelling. However, one could create new features using some hasing techniques, as in [link](https://www.kaggle.com/evgenyparenchenkov/svm-catboost-and-a-couple-of-new-features)."
   ]
  },
  {
   "cell_type": "code",
   "execution_count": 197,
   "metadata": {},
   "outputs": [
    {
     "data": {
      "text/plain": [
       "array(['-', '--', '6110021', 'AB', 'AK', 'AL', 'ALABAMA', 'ALBERTA',\n",
       "       'ANTWERP', 'AZ', 'Alabama', 'Alicante', 'Andhra Pradesh',\n",
       "       'Arizona', 'Arkansas', 'Austria', 'BC', 'Barcelona', 'Bei Jing',\n",
       "       'Berlin', 'British Columbia', 'CA', 'CALIFORNIA', 'CH', 'CO',\n",
       "       'CO. DUBLIN', 'CT', 'California', 'Central', 'Colorado',\n",
       "       'Connecticut', 'DC', 'DE', 'District of Columbia', 'Dubai', 'FL',\n",
       "       'FLORIDA', 'Florida', 'Fukuoka', 'GA', 'GRAND CAYMAN',\n",
       "       'Greater London', 'HANTS', 'HR', 'Haryana', 'IL',\n",
       "       'ILOCOS NORTE R3', 'INDAL', 'Illinois', 'Indiana', 'KG', 'KS',\n",
       "       'Kansas', 'Karnataka', 'Kentucky', 'Krasnoyarsk', 'LA', 'London',\n",
       "       'MA', 'MAHARASHTR', 'MAINE', 'MB', 'MD', 'ME', 'MH', 'MI',\n",
       "       'MIDDLESEX', 'MO', 'MOSCOW', 'Maharashtra', 'Mahe', 'Maine',\n",
       "       'Manila', 'Manitoba', 'Maryland', 'Massachusetts', 'Metro Manila',\n",
       "       'Michigan', 'Minnesota', 'Missouri', 'Montevideo', 'NC',\n",
       "       'NEW SOUTH WALES', 'NEW YORK', 'NH', 'NJ', 'NONE',\n",
       "       'NOT APPLICABLE', 'NSW', 'NV', 'NY', 'Nebraska', 'Nevada',\n",
       "       'New Jersey', 'New Mexico', 'New Providence', 'New South Wales',\n",
       "       'New York', 'None', 'Noord-Holland', 'North Carolina',\n",
       "       'Not Applicable', 'Novosibirskaya obl.', 'OH', 'OK', 'ON',\n",
       "       'ONTARIO', 'OR', 'Ohio', 'Ontario', 'Oregon', 'Osaka', 'Other',\n",
       "       'P', 'PA', 'PANAMA', 'PRAHA', 'Panama', 'Paris', 'Pennsylvania',\n",
       "       'Peterborough', 'Punjab', 'QC', 'QLD', 'QUEBEC', 'Quebec',\n",
       "       'Queensland', 'RIX', 'RM', 'Rogaland', 'SK', 'Saskatchewan',\n",
       "       'South Carolina', 'TEXAS', 'TN', 'TOKYO-TO', 'TR', 'TX',\n",
       "       'Tamil Nadu', 'Tennessee', 'Texas', 'Tottori', 'UK', 'UT', 'UTAH',\n",
       "       'UTTAR PRADESH', 'Utah', 'Utr', 'VA', 'VERMONT', 'VIC', 'VT', 'Vi',\n",
       "       'Vic', 'Virginia', 'WA', 'WC1N', 'WEST MIDLANDS', 'WI', 'WV',\n",
       "       'Washington', 'Wisconsin', 'ZH', 'Zhejiang', 'Zug', 'ab',\n",
       "       'bangkok', 'bc', 'beijingshi', 'ca', 'hunansheng', 'il', 'kireka',\n",
       "       'liaoningsheng', 'nj', 'ny', 'qc', 'quebec', 'shandong', 'va',\n",
       "       'widestep@mail.ru', 'worcs'], dtype=object)"
      ]
     },
     "execution_count": 197,
     "metadata": {},
     "output_type": "execute_result"
    }
   ],
   "source": [
    "df_train['WHOIS_STATEPRO'].sort_values().unique()\n"
   ]
  },
  {
   "cell_type": "code",
   "execution_count": 337,
   "metadata": {},
   "outputs": [],
   "source": [
    "usable_categorical_columns = ['WHOIS_COUNTRY']\n"
   ]
  },
  {
   "cell_type": "markdown",
   "metadata": {
    "tags": []
   },
   "source": [
    "### Numeric features\n",
    "\n",
    "There are 14 numeric columns, including new feature *SERVER_LENGTH*, and 1 target column."
   ]
  },
  {
   "cell_type": "code",
   "execution_count": 284,
   "metadata": {},
   "outputs": [
    {
     "data": {
      "text/html": [
       "<div>\n",
       "<style scoped>\n",
       "    .dataframe tbody tr th:only-of-type {\n",
       "        vertical-align: middle;\n",
       "    }\n",
       "\n",
       "    .dataframe tbody tr th {\n",
       "        vertical-align: top;\n",
       "    }\n",
       "\n",
       "    .dataframe thead th {\n",
       "        text-align: right;\n",
       "    }\n",
       "</style>\n",
       "<table border=\"1\" class=\"dataframe\">\n",
       "  <thead>\n",
       "    <tr style=\"text-align: right;\">\n",
       "      <th></th>\n",
       "      <th>URL_LENGTH</th>\n",
       "      <th>NUMBER_SPECIAL_CHARACTERS</th>\n",
       "      <th>CONTENT_LENGTH</th>\n",
       "      <th>TCP_CONVERSATION_EXCHANGE</th>\n",
       "      <th>DIST_REMOTE_TCP_PORT</th>\n",
       "      <th>REMOTE_IPS</th>\n",
       "      <th>APP_BYTES</th>\n",
       "      <th>SOURCE_APP_PACKETS</th>\n",
       "      <th>REMOTE_APP_PACKETS</th>\n",
       "      <th>SOURCE_APP_BYTES</th>\n",
       "      <th>REMOTE_APP_BYTES</th>\n",
       "      <th>APP_PACKETS</th>\n",
       "      <th>DNS_QUERY_TIMES</th>\n",
       "      <th>Type</th>\n",
       "      <th>SERVER_LENGTH</th>\n",
       "    </tr>\n",
       "  </thead>\n",
       "  <tbody>\n",
       "    <tr>\n",
       "      <th>0</th>\n",
       "      <td>16</td>\n",
       "      <td>6</td>\n",
       "      <td>15087.0</td>\n",
       "      <td>17</td>\n",
       "      <td>7</td>\n",
       "      <td>4</td>\n",
       "      <td>1230</td>\n",
       "      <td>17</td>\n",
       "      <td>19</td>\n",
       "      <td>1265</td>\n",
       "      <td>1230</td>\n",
       "      <td>17</td>\n",
       "      <td>0.0</td>\n",
       "      <td>0</td>\n",
       "      <td>13</td>\n",
       "    </tr>\n",
       "    <tr>\n",
       "      <th>1</th>\n",
       "      <td>16</td>\n",
       "      <td>6</td>\n",
       "      <td>324.0</td>\n",
       "      <td>0</td>\n",
       "      <td>0</td>\n",
       "      <td>0</td>\n",
       "      <td>0</td>\n",
       "      <td>0</td>\n",
       "      <td>0</td>\n",
       "      <td>0</td>\n",
       "      <td>0</td>\n",
       "      <td>0</td>\n",
       "      <td>0.0</td>\n",
       "      <td>0</td>\n",
       "      <td>21</td>\n",
       "    </tr>\n",
       "    <tr>\n",
       "      <th>2</th>\n",
       "      <td>17</td>\n",
       "      <td>6</td>\n",
       "      <td>162.0</td>\n",
       "      <td>31</td>\n",
       "      <td>22</td>\n",
       "      <td>3</td>\n",
       "      <td>3812</td>\n",
       "      <td>39</td>\n",
       "      <td>37</td>\n",
       "      <td>18784</td>\n",
       "      <td>4380</td>\n",
       "      <td>39</td>\n",
       "      <td>8.0</td>\n",
       "      <td>0</td>\n",
       "      <td>5</td>\n",
       "    </tr>\n",
       "    <tr>\n",
       "      <th>3</th>\n",
       "      <td>17</td>\n",
       "      <td>6</td>\n",
       "      <td>124140.0</td>\n",
       "      <td>57</td>\n",
       "      <td>2</td>\n",
       "      <td>5</td>\n",
       "      <td>4278</td>\n",
       "      <td>61</td>\n",
       "      <td>62</td>\n",
       "      <td>129889</td>\n",
       "      <td>4586</td>\n",
       "      <td>61</td>\n",
       "      <td>4.0</td>\n",
       "      <td>0</td>\n",
       "      <td>4</td>\n",
       "    </tr>\n",
       "    <tr>\n",
       "      <th>4</th>\n",
       "      <td>18</td>\n",
       "      <td>7</td>\n",
       "      <td>NaN</td>\n",
       "      <td>11</td>\n",
       "      <td>6</td>\n",
       "      <td>9</td>\n",
       "      <td>894</td>\n",
       "      <td>11</td>\n",
       "      <td>13</td>\n",
       "      <td>838</td>\n",
       "      <td>894</td>\n",
       "      <td>11</td>\n",
       "      <td>0.0</td>\n",
       "      <td>0</td>\n",
       "      <td>5</td>\n",
       "    </tr>\n",
       "    <tr>\n",
       "      <th>...</th>\n",
       "      <td>...</td>\n",
       "      <td>...</td>\n",
       "      <td>...</td>\n",
       "      <td>...</td>\n",
       "      <td>...</td>\n",
       "      <td>...</td>\n",
       "      <td>...</td>\n",
       "      <td>...</td>\n",
       "      <td>...</td>\n",
       "      <td>...</td>\n",
       "      <td>...</td>\n",
       "      <td>...</td>\n",
       "      <td>...</td>\n",
       "      <td>...</td>\n",
       "      <td>...</td>\n",
       "    </tr>\n",
       "    <tr>\n",
       "      <th>1426</th>\n",
       "      <td>194</td>\n",
       "      <td>17</td>\n",
       "      <td>NaN</td>\n",
       "      <td>0</td>\n",
       "      <td>0</td>\n",
       "      <td>0</td>\n",
       "      <td>0</td>\n",
       "      <td>0</td>\n",
       "      <td>3</td>\n",
       "      <td>186</td>\n",
       "      <td>0</td>\n",
       "      <td>0</td>\n",
       "      <td>0.0</td>\n",
       "      <td>1</td>\n",
       "      <td>6</td>\n",
       "    </tr>\n",
       "    <tr>\n",
       "      <th>1427</th>\n",
       "      <td>194</td>\n",
       "      <td>16</td>\n",
       "      <td>NaN</td>\n",
       "      <td>0</td>\n",
       "      <td>0</td>\n",
       "      <td>0</td>\n",
       "      <td>0</td>\n",
       "      <td>0</td>\n",
       "      <td>3</td>\n",
       "      <td>186</td>\n",
       "      <td>0</td>\n",
       "      <td>0</td>\n",
       "      <td>0.0</td>\n",
       "      <td>1</td>\n",
       "      <td>6</td>\n",
       "    </tr>\n",
       "    <tr>\n",
       "      <th>1428</th>\n",
       "      <td>201</td>\n",
       "      <td>34</td>\n",
       "      <td>8904.0</td>\n",
       "      <td>83</td>\n",
       "      <td>2</td>\n",
       "      <td>6</td>\n",
       "      <td>6631</td>\n",
       "      <td>87</td>\n",
       "      <td>89</td>\n",
       "      <td>132181</td>\n",
       "      <td>6945</td>\n",
       "      <td>87</td>\n",
       "      <td>4.0</td>\n",
       "      <td>0</td>\n",
       "      <td>22</td>\n",
       "    </tr>\n",
       "    <tr>\n",
       "      <th>1429</th>\n",
       "      <td>234</td>\n",
       "      <td>34</td>\n",
       "      <td>NaN</td>\n",
       "      <td>0</td>\n",
       "      <td>0</td>\n",
       "      <td>0</td>\n",
       "      <td>0</td>\n",
       "      <td>0</td>\n",
       "      <td>0</td>\n",
       "      <td>0</td>\n",
       "      <td>0</td>\n",
       "      <td>0</td>\n",
       "      <td>0.0</td>\n",
       "      <td>0</td>\n",
       "      <td>16</td>\n",
       "    </tr>\n",
       "    <tr>\n",
       "      <th>1430</th>\n",
       "      <td>249</td>\n",
       "      <td>40</td>\n",
       "      <td>24435.0</td>\n",
       "      <td>19</td>\n",
       "      <td>6</td>\n",
       "      <td>11</td>\n",
       "      <td>2314</td>\n",
       "      <td>25</td>\n",
       "      <td>28</td>\n",
       "      <td>3039</td>\n",
       "      <td>2776</td>\n",
       "      <td>25</td>\n",
       "      <td>6.0</td>\n",
       "      <td>0</td>\n",
       "      <td>17</td>\n",
       "    </tr>\n",
       "  </tbody>\n",
       "</table>\n",
       "<p>1431 rows × 15 columns</p>\n",
       "</div>"
      ],
      "text/plain": [
       "      URL_LENGTH  NUMBER_SPECIAL_CHARACTERS  CONTENT_LENGTH  \\\n",
       "0             16                          6         15087.0   \n",
       "1             16                          6           324.0   \n",
       "2             17                          6           162.0   \n",
       "3             17                          6        124140.0   \n",
       "4             18                          7             NaN   \n",
       "...          ...                        ...             ...   \n",
       "1426         194                         17             NaN   \n",
       "1427         194                         16             NaN   \n",
       "1428         201                         34          8904.0   \n",
       "1429         234                         34             NaN   \n",
       "1430         249                         40         24435.0   \n",
       "\n",
       "      TCP_CONVERSATION_EXCHANGE  DIST_REMOTE_TCP_PORT  REMOTE_IPS  APP_BYTES  \\\n",
       "0                            17                     7           4       1230   \n",
       "1                             0                     0           0          0   \n",
       "2                            31                    22           3       3812   \n",
       "3                            57                     2           5       4278   \n",
       "4                            11                     6           9        894   \n",
       "...                         ...                   ...         ...        ...   \n",
       "1426                          0                     0           0          0   \n",
       "1427                          0                     0           0          0   \n",
       "1428                         83                     2           6       6631   \n",
       "1429                          0                     0           0          0   \n",
       "1430                         19                     6          11       2314   \n",
       "\n",
       "      SOURCE_APP_PACKETS  REMOTE_APP_PACKETS  SOURCE_APP_BYTES  \\\n",
       "0                     17                  19              1265   \n",
       "1                      0                   0                 0   \n",
       "2                     39                  37             18784   \n",
       "3                     61                  62            129889   \n",
       "4                     11                  13               838   \n",
       "...                  ...                 ...               ...   \n",
       "1426                   0                   3               186   \n",
       "1427                   0                   3               186   \n",
       "1428                  87                  89            132181   \n",
       "1429                   0                   0                 0   \n",
       "1430                  25                  28              3039   \n",
       "\n",
       "      REMOTE_APP_BYTES  APP_PACKETS  DNS_QUERY_TIMES  Type  SERVER_LENGTH  \n",
       "0                 1230           17              0.0     0             13  \n",
       "1                    0            0              0.0     0             21  \n",
       "2                 4380           39              8.0     0              5  \n",
       "3                 4586           61              4.0     0              4  \n",
       "4                  894           11              0.0     0              5  \n",
       "...                ...          ...              ...   ...            ...  \n",
       "1426                 0            0              0.0     1              6  \n",
       "1427                 0            0              0.0     1              6  \n",
       "1428              6945           87              4.0     0             22  \n",
       "1429                 0            0              0.0     0             16  \n",
       "1430              2776           25              6.0     0             17  \n",
       "\n",
       "[1431 rows x 15 columns]"
      ]
     },
     "execution_count": 284,
     "metadata": {},
     "output_type": "execute_result"
    }
   ],
   "source": [
    "df_train.select_dtypes(include=['number'])\n"
   ]
  },
  {
   "cell_type": "code",
   "execution_count": 290,
   "metadata": {},
   "outputs": [],
   "source": [
    "# list of numeric columns\n",
    "numeric_columns = df_train.select_dtypes(include=['number']).columns.tolist()\n"
   ]
  },
  {
   "cell_type": "markdown",
   "metadata": {
    "tags": []
   },
   "source": [
    "#### Correlation"
   ]
  },
  {
   "cell_type": "markdown",
   "metadata": {},
   "source": [
    "Let us have a look at their correlation. \n",
    "\n",
    "As we can see there are some very correlated columns like *APP_PACKETS* and *DIST_REMOTE_TCP_PORT*. Here we consider linear correlation. In general, correlated features should not be used in model training, especially for linear models like `Logistic Regression`. However, for tree-based methods correlation is not a big problem. "
   ]
  },
  {
   "cell_type": "code",
   "execution_count": 330,
   "metadata": {},
   "outputs": [
    {
     "data": {
      "image/png": "[encoded data removed]",
      "text/plain": [
       "<Figure size 720x720 with 2 Axes>"
      ]
     },
     "metadata": {
      "needs_background": "light"
     },
     "output_type": "display_data"
    }
   ],
   "source": [
    "fig = plt.figure(figsize=(10, 10))\n",
    "sns.heatmap(df_train[numeric_columns].corr().round(2), annot=True, fmt='g')\n",
    "plt.show()\n"
   ]
  },
  {
   "cell_type": "markdown",
   "metadata": {},
   "source": [
    "Setting some upper bound on correlation between features can be a good idea. If one of two correlated columns is used, the other one should not."
   ]
  },
  {
   "cell_type": "code",
   "execution_count": 331,
   "metadata": {},
   "outputs": [
    {
     "data": {
      "image/png": "[encoded data removed]",
      "text/plain": [
       "<Figure size 720x720 with 2 Axes>"
      ]
     },
     "metadata": {
      "needs_background": "light"
     },
     "output_type": "display_data"
    }
   ],
   "source": [
    "# Looking at numeric columns where absolute values of correlation are smaller than 0.4.\n",
    "# In this representation, it is easier to see which columns should not be used together\n",
    "# because of correlation. For example, 'URL_LENGTH' should not be use with 'NUMBER_SPECIAL_CHARACTERS'.\n",
    "\n",
    "fig = plt.figure(figsize=(10, 10))\n",
    "sns.heatmap((df_train[numeric_columns].corr().round(\n",
    "    2).abs() < 0.4), annot=True, fmt='g')\n",
    "plt.show()\n"
   ]
  },
  {
   "cell_type": "markdown",
   "metadata": {},
   "source": [
    "Based on this correlation heatmap, one can decide to use *NUMBER_SPECIAL_CHARACTERS*, *REMOTE_IPS*, *SOURCE_APP_BYTES*, *REMOTE_APP_BYTES*, *SERVER_LENGTH* together because they do not correlate too much. *CONTENT_LENGTH* can also be in this list, but it has too many missing values."
   ]
  },
  {
   "cell_type": "code",
   "execution_count": 319,
   "metadata": {},
   "outputs": [],
   "source": [
    "usable_numeric_columns = ['NUMBER_SPECIAL_CHARACTERS', 'REMOTE_IPS',\n",
    "                          'SOURCE_APP_BYTES', 'REMOTE_APP_BYTES', 'SERVER_LENGTH']\n"
   ]
  },
  {
   "cell_type": "code",
   "execution_count": 288,
   "metadata": {},
   "outputs": [],
   "source": [
    "# idx_non_correlated_columns=(df_train[numeric_columns].corr().round(2).abs()< 0.4).values\n"
   ]
  },
  {
   "cell_type": "markdown",
   "metadata": {
    "tags": []
   },
   "source": [
    "#### Distribution\n",
    "\n",
    "Numeric columns in the dataset have diverse ranges and distributions. Transformations like `Standard Scaling` and `Normalization` should be made when using these columns for modelling. We also can see that distributions for `positive` and `negative` classes to not differ a lot. It may be interesting to try polynomial transformation for these features and see how they would behave as predictors."
   ]
  },
  {
   "cell_type": "code",
   "execution_count": 322,
   "metadata": {},
   "outputs": [
    {
     "data": {
      "image/png": "[encoded data removed]",
      "text/plain": [
       "<Figure size 1080x720 with 6 Axes>"
      ]
     },
     "metadata": {
      "needs_background": "light"
     },
     "output_type": "display_data"
    }
   ],
   "source": [
    "fig, ax = plt.subplots(2, 3, figsize=(15, 10))\n",
    "ax = ax.flatten()\n",
    "\n",
    "for i, col in enumerate(usable_numeric_columns):\n",
    "    sns.histplot(df_train, x=col, hue='Type', ax=ax[i])\n"
   ]
  },
  {
   "cell_type": "markdown",
   "metadata": {},
   "source": [
    "### Datetime features\n",
    "\n",
    "ML algorithms implemented in `scikit-learn` do not process datetime values. They need to be transformed into `numeric` format. Also one could deduce the day and month values from these features, and analyse if they do give any improvement for a model's predictive power."
   ]
  },
  {
   "cell_type": "code",
   "execution_count": 349,
   "metadata": {},
   "outputs": [
    {
     "data": {
      "text/plain": [
       "<seaborn.axisgrid.FacetGrid at 0x7fdefb13df10>"
      ]
     },
     "execution_count": 349,
     "metadata": {},
     "output_type": "execute_result"
    },
    {
     "data": {
      "image/png": "[encoded data removed]",
      "text/plain": [
       "<Figure size 402.375x360 with 1 Axes>"
      ]
     },
     "metadata": {
      "needs_background": "light"
     },
     "output_type": "display_data"
    }
   ],
   "source": [
    "sns.displot(df_train, x='WHOIS_REGDATE_TS',\n",
    "            y='WHOIS_UPDATED_DATE_TS', hue='Type')\n"
   ]
  },
  {
   "cell_type": "code",
   "execution_count": 463,
   "metadata": {},
   "outputs": [],
   "source": [
    "# converting dates to int\n",
    "df_train['WHOIS_REGDATE_INT'] = df_train['WHOIS_REGDATE_TS'].view(int)\n",
    "df_train['WHOIS_UPDATED_DATE_INT'] = df_train['WHOIS_UPDATED_DATE_TS'].view(\n",
    "    int)\n",
    "\n",
    "# extracting month values\n",
    "df_train['WHOIS_REGDATE_MONTH'] = df_train['WHOIS_REGDATE_TS'].dt.month\n",
    "df_train['WHOIS_UPDATED_DATE_MONTH'] = df_train['WHOIS_UPDATED_DATE_TS'].dt.month\n",
    "\n",
    "# extracting day values\n",
    "df_train['WHOIS_REGDATE_DAY'] = df_train['WHOIS_REGDATE_TS'].dt.day\n",
    "df_train['WHOIS_UPDATED_DATE_DAY'] = df_train['WHOIS_UPDATED_DATE_TS'].dt.day\n"
   ]
  },
  {
   "cell_type": "code",
   "execution_count": 401,
   "metadata": {},
   "outputs": [
    {
     "data": {
      "text/plain": [
       "<seaborn.axisgrid.FacetGrid at 0x7fdefd1e0100>"
      ]
     },
     "execution_count": 401,
     "metadata": {},
     "output_type": "execute_result"
    },
    {
     "data": {
      "image/png": "[encoded data removed]",
      "text/plain": [
       "<Figure size 402.375x360 with 1 Axes>"
      ]
     },
     "metadata": {
      "needs_background": "light"
     },
     "output_type": "display_data"
    }
   ],
   "source": [
    "# this plot is a scatterplot of two features where dots are colored after the 'Type' variable\n",
    "sns.displot(df_train.query('WHOIS_REGDATE_INT>0 and WHOIS_UPDATED_DATE_INT>0'),\n",
    "            x='WHOIS_REGDATE_INT', y='WHOIS_UPDATED_DATE_INT', hue='Type')\n"
   ]
  },
  {
   "cell_type": "code",
   "execution_count": 425,
   "metadata": {},
   "outputs": [
    {
     "data": {
      "text/plain": [
       "<seaborn.axisgrid.FacetGrid at 0x7fdefd8f36a0>"
      ]
     },
     "execution_count": 425,
     "metadata": {},
     "output_type": "execute_result"
    },
    {
     "data": {
      "image/png": "[encoded data removed]",
      "text/plain": [
       "<Figure size 402.375x360 with 1 Axes>"
      ]
     },
     "metadata": {
      "needs_background": "light"
     },
     "output_type": "display_data"
    }
   ],
   "source": [
    "# this plot is a scatterplot of two features where dots are colored after the 'Type' variable\n",
    "sns.displot(df_train, x='WHOIS_REGDATE_MONTH',\n",
    "            y='WHOIS_UPDATED_DATE_MONTH', hue='Type')\n"
   ]
  },
  {
   "cell_type": "markdown",
   "metadata": {},
   "source": [
    "Looking at linear correlation between deduced columns and the target. "
   ]
  },
  {
   "cell_type": "code",
   "execution_count": 467,
   "metadata": {},
   "outputs": [
    {
     "data": {
      "image/png": "[encoded data removed]",
      "text/plain": [
       "<Figure size 720x720 with 2 Axes>"
      ]
     },
     "metadata": {
      "needs_background": "light"
     },
     "output_type": "display_data"
    }
   ],
   "source": [
    "deduced_date_columns = ['WHOIS_REGDATE_INT', 'WHOIS_UPDATED_DATE_INT', 'WHOIS_REGDATE_MONTH',\n",
    "                        'WHOIS_UPDATED_DATE_MONTH', 'WHOIS_REGDATE_DAY', 'WHOIS_UPDATED_DATE_DAY']\n",
    "fig = plt.figure(figsize=(10, 10))\n",
    "sns.heatmap(df_train[deduced_date_columns+['Type']\n",
    "                     ].corr().round(2), annot=True, fmt='g')\n",
    "plt.show()\n"
   ]
  },
  {
   "cell_type": "markdown",
   "metadata": {},
   "source": [
    "The columns *SOURCE_APP_BYTES* and *REMOTE_APP_BYTES* have too large values. Therefore it could be relevant to use the `log()` function on them. To avoid getting `-inf` on zeros in the coulmns, we could shift them by adding 1. "
   ]
  },
  {
   "cell_type": "code",
   "execution_count": 342,
   "metadata": {},
   "outputs": [],
   "source": [
    "bytes_cols = []\n",
    "for col in ['SOURCE_APP_BYTES', 'REMOTE_APP_BYTES']:\n",
    "    df_train[col+'_LOG'] = (df_train[col]+1).apply(np.log)\n",
    "    bytes_cols.append(col+'_LOG')\n"
   ]
  },
  {
   "cell_type": "markdown",
   "metadata": {},
   "source": [
    "### Columns to drop \n",
    "- *URL*, *WHOIS_REGDATE*, *WHOIS_UPDATED_DATE* have been discussed before.\n",
    "- *CONTENT_LENGTH* has too many missing values and it correlates with several other columns. Therefore I choose to drop it. \n",
    "- *CHARSET*, *DNS_QUERY_TIMES* too few unique values.\n",
    "- *WHOIS_STATEPRO*, *SERVER* have too many unstructured values.\n",
    "- We drop *URL_LENGTH* because correlates well with *NUMBER_SPECIAL_CHARACTERS* and the latter has better correlation with the target. \n",
    "\n",
    "We will also avoid using datetime columns here. Because their values may not be transformed appropriately and throw errors. This will also make our dataset transformation pipeline easier."
   ]
  },
  {
   "cell_type": "code",
   "execution_count": 347,
   "metadata": {},
   "outputs": [],
   "source": [
    "drop_columns = ['URL', 'WHOIS_REGDATE', 'WHOIS_UPDATED_DATE', 'CONTENT_LENGTH', 'CHARSET', 'DNS_QUERY_TIMES', 'WHOIS_STATEPRO', 'SERVER',\n",
    "                'URL_LENGTH']\n"
   ]
  },
  {
   "cell_type": "code",
   "execution_count": 336,
   "metadata": {},
   "outputs": [
    {
     "data": {
      "text/html": [
       "<div>\n",
       "<style scoped>\n",
       "    .dataframe tbody tr th:only-of-type {\n",
       "        vertical-align: middle;\n",
       "    }\n",
       "\n",
       "    .dataframe tbody tr th {\n",
       "        vertical-align: top;\n",
       "    }\n",
       "\n",
       "    .dataframe thead th {\n",
       "        text-align: right;\n",
       "    }\n",
       "</style>\n",
       "<table border=\"1\" class=\"dataframe\">\n",
       "  <thead>\n",
       "    <tr style=\"text-align: right;\">\n",
       "      <th></th>\n",
       "      <th>NUMBER_SPECIAL_CHARACTERS</th>\n",
       "      <th>WHOIS_COUNTRY</th>\n",
       "      <th>TCP_CONVERSATION_EXCHANGE</th>\n",
       "      <th>DIST_REMOTE_TCP_PORT</th>\n",
       "      <th>REMOTE_IPS</th>\n",
       "      <th>APP_BYTES</th>\n",
       "      <th>SOURCE_APP_PACKETS</th>\n",
       "      <th>REMOTE_APP_PACKETS</th>\n",
       "      <th>SOURCE_APP_BYTES</th>\n",
       "      <th>REMOTE_APP_BYTES</th>\n",
       "      <th>APP_PACKETS</th>\n",
       "      <th>Type</th>\n",
       "      <th>WHOIS_REGDATE_TS</th>\n",
       "      <th>WHOIS_UPDATED_DATE_TS</th>\n",
       "      <th>SERVER_LENGTH</th>\n",
       "      <th>APP_BYTES_LOG</th>\n",
       "      <th>SOURCE_APP_BYTES_LOG</th>\n",
       "      <th>REMOTE_APP_BYTES_LOG</th>\n",
       "    </tr>\n",
       "  </thead>\n",
       "  <tbody>\n",
       "    <tr>\n",
       "      <th>0</th>\n",
       "      <td>6</td>\n",
       "      <td>None</td>\n",
       "      <td>17</td>\n",
       "      <td>7</td>\n",
       "      <td>4</td>\n",
       "      <td>1230</td>\n",
       "      <td>17</td>\n",
       "      <td>19</td>\n",
       "      <td>1265</td>\n",
       "      <td>1230</td>\n",
       "      <td>17</td>\n",
       "      <td>0</td>\n",
       "      <td>1960-12-31 23:59:00</td>\n",
       "      <td>1960-12-31 23:59:00</td>\n",
       "      <td>13</td>\n",
       "      <td>7.115582</td>\n",
       "      <td>7.143618</td>\n",
       "      <td>7.115582</td>\n",
       "    </tr>\n",
       "    <tr>\n",
       "      <th>1</th>\n",
       "      <td>6</td>\n",
       "      <td>None</td>\n",
       "      <td>0</td>\n",
       "      <td>0</td>\n",
       "      <td>0</td>\n",
       "      <td>0</td>\n",
       "      <td>0</td>\n",
       "      <td>0</td>\n",
       "      <td>0</td>\n",
       "      <td>0</td>\n",
       "      <td>0</td>\n",
       "      <td>0</td>\n",
       "      <td>1960-12-31 23:59:00</td>\n",
       "      <td>1960-12-31 23:59:00</td>\n",
       "      <td>21</td>\n",
       "      <td>0.000000</td>\n",
       "      <td>0.000000</td>\n",
       "      <td>0.000000</td>\n",
       "    </tr>\n",
       "    <tr>\n",
       "      <th>2</th>\n",
       "      <td>6</td>\n",
       "      <td>US</td>\n",
       "      <td>31</td>\n",
       "      <td>22</td>\n",
       "      <td>3</td>\n",
       "      <td>3812</td>\n",
       "      <td>39</td>\n",
       "      <td>37</td>\n",
       "      <td>18784</td>\n",
       "      <td>4380</td>\n",
       "      <td>39</td>\n",
       "      <td>0</td>\n",
       "      <td>1997-07-10 04:00:00</td>\n",
       "      <td>2013-12-09 00:45:00</td>\n",
       "      <td>5</td>\n",
       "      <td>8.246172</td>\n",
       "      <td>9.840814</td>\n",
       "      <td>8.385032</td>\n",
       "    </tr>\n",
       "    <tr>\n",
       "      <th>3</th>\n",
       "      <td>6</td>\n",
       "      <td>US</td>\n",
       "      <td>57</td>\n",
       "      <td>2</td>\n",
       "      <td>5</td>\n",
       "      <td>4278</td>\n",
       "      <td>61</td>\n",
       "      <td>62</td>\n",
       "      <td>129889</td>\n",
       "      <td>4586</td>\n",
       "      <td>61</td>\n",
       "      <td>0</td>\n",
       "      <td>1996-12-05 00:00:00</td>\n",
       "      <td>2017-11-04 00:00:00</td>\n",
       "      <td>4</td>\n",
       "      <td>8.361475</td>\n",
       "      <td>11.774443</td>\n",
       "      <td>8.430981</td>\n",
       "    </tr>\n",
       "    <tr>\n",
       "      <th>4</th>\n",
       "      <td>7</td>\n",
       "      <td>SC</td>\n",
       "      <td>11</td>\n",
       "      <td>6</td>\n",
       "      <td>9</td>\n",
       "      <td>894</td>\n",
       "      <td>11</td>\n",
       "      <td>13</td>\n",
       "      <td>838</td>\n",
       "      <td>894</td>\n",
       "      <td>11</td>\n",
       "      <td>0</td>\n",
       "      <td>2016-03-08 14:30:00</td>\n",
       "      <td>2016-03-10 03:45:00</td>\n",
       "      <td>5</td>\n",
       "      <td>6.796824</td>\n",
       "      <td>6.732211</td>\n",
       "      <td>6.796824</td>\n",
       "    </tr>\n",
       "    <tr>\n",
       "      <th>...</th>\n",
       "      <td>...</td>\n",
       "      <td>...</td>\n",
       "      <td>...</td>\n",
       "      <td>...</td>\n",
       "      <td>...</td>\n",
       "      <td>...</td>\n",
       "      <td>...</td>\n",
       "      <td>...</td>\n",
       "      <td>...</td>\n",
       "      <td>...</td>\n",
       "      <td>...</td>\n",
       "      <td>...</td>\n",
       "      <td>...</td>\n",
       "      <td>...</td>\n",
       "      <td>...</td>\n",
       "      <td>...</td>\n",
       "      <td>...</td>\n",
       "      <td>...</td>\n",
       "    </tr>\n",
       "    <tr>\n",
       "      <th>1426</th>\n",
       "      <td>17</td>\n",
       "      <td>ES</td>\n",
       "      <td>0</td>\n",
       "      <td>0</td>\n",
       "      <td>0</td>\n",
       "      <td>0</td>\n",
       "      <td>0</td>\n",
       "      <td>3</td>\n",
       "      <td>186</td>\n",
       "      <td>0</td>\n",
       "      <td>0</td>\n",
       "      <td>1</td>\n",
       "      <td>2008-09-17 00:00:00</td>\n",
       "      <td>2016-02-09 00:00:00</td>\n",
       "      <td>6</td>\n",
       "      <td>0.000000</td>\n",
       "      <td>5.231109</td>\n",
       "      <td>0.000000</td>\n",
       "    </tr>\n",
       "    <tr>\n",
       "      <th>1427</th>\n",
       "      <td>16</td>\n",
       "      <td>ES</td>\n",
       "      <td>0</td>\n",
       "      <td>0</td>\n",
       "      <td>0</td>\n",
       "      <td>0</td>\n",
       "      <td>0</td>\n",
       "      <td>3</td>\n",
       "      <td>186</td>\n",
       "      <td>0</td>\n",
       "      <td>0</td>\n",
       "      <td>1</td>\n",
       "      <td>2008-09-17 00:00:00</td>\n",
       "      <td>2016-02-09 00:00:00</td>\n",
       "      <td>6</td>\n",
       "      <td>0.000000</td>\n",
       "      <td>5.231109</td>\n",
       "      <td>0.000000</td>\n",
       "    </tr>\n",
       "    <tr>\n",
       "      <th>1428</th>\n",
       "      <td>34</td>\n",
       "      <td>US</td>\n",
       "      <td>83</td>\n",
       "      <td>2</td>\n",
       "      <td>6</td>\n",
       "      <td>6631</td>\n",
       "      <td>87</td>\n",
       "      <td>89</td>\n",
       "      <td>132181</td>\n",
       "      <td>6945</td>\n",
       "      <td>87</td>\n",
       "      <td>0</td>\n",
       "      <td>1999-02-15 00:00:00</td>\n",
       "      <td>2015-07-15 00:00:00</td>\n",
       "      <td>22</td>\n",
       "      <td>8.799662</td>\n",
       "      <td>11.791935</td>\n",
       "      <td>8.845921</td>\n",
       "    </tr>\n",
       "    <tr>\n",
       "      <th>1429</th>\n",
       "      <td>34</td>\n",
       "      <td>US</td>\n",
       "      <td>0</td>\n",
       "      <td>0</td>\n",
       "      <td>0</td>\n",
       "      <td>0</td>\n",
       "      <td>0</td>\n",
       "      <td>0</td>\n",
       "      <td>0</td>\n",
       "      <td>0</td>\n",
       "      <td>0</td>\n",
       "      <td>0</td>\n",
       "      <td>1998-01-04 00:00:00</td>\n",
       "      <td>2016-09-12 00:00:00</td>\n",
       "      <td>16</td>\n",
       "      <td>0.000000</td>\n",
       "      <td>0.000000</td>\n",
       "      <td>0.000000</td>\n",
       "    </tr>\n",
       "    <tr>\n",
       "      <th>1430</th>\n",
       "      <td>40</td>\n",
       "      <td>US</td>\n",
       "      <td>19</td>\n",
       "      <td>6</td>\n",
       "      <td>11</td>\n",
       "      <td>2314</td>\n",
       "      <td>25</td>\n",
       "      <td>28</td>\n",
       "      <td>3039</td>\n",
       "      <td>2776</td>\n",
       "      <td>25</td>\n",
       "      <td>0</td>\n",
       "      <td>2008-11-14 00:00:00</td>\n",
       "      <td>2013-11-20 00:00:00</td>\n",
       "      <td>17</td>\n",
       "      <td>7.747165</td>\n",
       "      <td>8.019613</td>\n",
       "      <td>7.929126</td>\n",
       "    </tr>\n",
       "  </tbody>\n",
       "</table>\n",
       "<p>1431 rows × 18 columns</p>\n",
       "</div>"
      ],
      "text/plain": [
       "      NUMBER_SPECIAL_CHARACTERS WHOIS_COUNTRY  TCP_CONVERSATION_EXCHANGE  \\\n",
       "0                             6          None                         17   \n",
       "1                             6          None                          0   \n",
       "2                             6            US                         31   \n",
       "3                             6            US                         57   \n",
       "4                             7            SC                         11   \n",
       "...                         ...           ...                        ...   \n",
       "1426                         17            ES                          0   \n",
       "1427                         16            ES                          0   \n",
       "1428                         34            US                         83   \n",
       "1429                         34            US                          0   \n",
       "1430                         40            US                         19   \n",
       "\n",
       "      DIST_REMOTE_TCP_PORT  REMOTE_IPS  APP_BYTES  SOURCE_APP_PACKETS  \\\n",
       "0                        7           4       1230                  17   \n",
       "1                        0           0          0                   0   \n",
       "2                       22           3       3812                  39   \n",
       "3                        2           5       4278                  61   \n",
       "4                        6           9        894                  11   \n",
       "...                    ...         ...        ...                 ...   \n",
       "1426                     0           0          0                   0   \n",
       "1427                     0           0          0                   0   \n",
       "1428                     2           6       6631                  87   \n",
       "1429                     0           0          0                   0   \n",
       "1430                     6          11       2314                  25   \n",
       "\n",
       "      REMOTE_APP_PACKETS  SOURCE_APP_BYTES  REMOTE_APP_BYTES  APP_PACKETS  \\\n",
       "0                     19              1265              1230           17   \n",
       "1                      0                 0                 0            0   \n",
       "2                     37             18784              4380           39   \n",
       "3                     62            129889              4586           61   \n",
       "4                     13               838               894           11   \n",
       "...                  ...               ...               ...          ...   \n",
       "1426                   3               186                 0            0   \n",
       "1427                   3               186                 0            0   \n",
       "1428                  89            132181              6945           87   \n",
       "1429                   0                 0                 0            0   \n",
       "1430                  28              3039              2776           25   \n",
       "\n",
       "      Type    WHOIS_REGDATE_TS WHOIS_UPDATED_DATE_TS  SERVER_LENGTH  \\\n",
       "0        0 1960-12-31 23:59:00   1960-12-31 23:59:00             13   \n",
       "1        0 1960-12-31 23:59:00   1960-12-31 23:59:00             21   \n",
       "2        0 1997-07-10 04:00:00   2013-12-09 00:45:00              5   \n",
       "3        0 1996-12-05 00:00:00   2017-11-04 00:00:00              4   \n",
       "4        0 2016-03-08 14:30:00   2016-03-10 03:45:00              5   \n",
       "...    ...                 ...                   ...            ...   \n",
       "1426     1 2008-09-17 00:00:00   2016-02-09 00:00:00              6   \n",
       "1427     1 2008-09-17 00:00:00   2016-02-09 00:00:00              6   \n",
       "1428     0 1999-02-15 00:00:00   2015-07-15 00:00:00             22   \n",
       "1429     0 1998-01-04 00:00:00   2016-09-12 00:00:00             16   \n",
       "1430     0 2008-11-14 00:00:00   2013-11-20 00:00:00             17   \n",
       "\n",
       "      APP_BYTES_LOG  SOURCE_APP_BYTES_LOG  REMOTE_APP_BYTES_LOG  \n",
       "0          7.115582              7.143618              7.115582  \n",
       "1          0.000000              0.000000              0.000000  \n",
       "2          8.246172              9.840814              8.385032  \n",
       "3          8.361475             11.774443              8.430981  \n",
       "4          6.796824              6.732211              6.796824  \n",
       "...             ...                   ...                   ...  \n",
       "1426       0.000000              5.231109              0.000000  \n",
       "1427       0.000000              5.231109              0.000000  \n",
       "1428       8.799662             11.791935              8.845921  \n",
       "1429       0.000000              0.000000              0.000000  \n",
       "1430       7.747165              8.019613              7.929126  \n",
       "\n",
       "[1431 rows x 18 columns]"
      ]
     },
     "execution_count": 336,
     "metadata": {},
     "output_type": "execute_result"
    }
   ],
   "source": [
    "df_train.drop(columns=drop_columns)\n"
   ]
  },
  {
   "cell_type": "markdown",
   "metadata": {},
   "source": [
    "### Columns to use \n",
    "\n",
    "The way we chose these columns is not advanced in any way. One could use statistical tests, weights of evidence or other sophisticated methods. However, this is a simple approach that can work fine in this project."
   ]
  },
  {
   "cell_type": "code",
   "execution_count": 426,
   "metadata": {},
   "outputs": [],
   "source": [
    "use_columns = ['WHOIS_COUNTRY',\n",
    "               'NUMBER_SPECIAL_CHARACTERS',\n",
    "               'REMOTE_IPS',\n",
    "               'SERVER_LENGTH',\n",
    "               'SOURCE_APP_BYTES_LOG',\n",
    "               'REMOTE_APP_BYTES_LOG'\n",
    "               ]\n"
   ]
  },
  {
   "cell_type": "markdown",
   "metadata": {
    "tags": []
   },
   "source": [
    "## Splitting data into train, validation and test datasets <a class=\"anchor\" id=\"fith-section\"></a>\n",
    "\n",
    "Since the dataset is not very large we will only holdout 20% (287 observations) of if for test. The rest of it, 1144 observations, will be used for training with cross-validation."
   ]
  },
  {
   "cell_type": "code",
   "execution_count": 457,
   "metadata": {},
   "outputs": [],
   "source": [
    "from sklearn.model_selection import train_test_split\n",
    "X = df_train[use_columns]\n",
    "y = df_train['Type']\n",
    "\n",
    "X_train, X_test, y_train, y_test = train_test_split(X, y,\n",
    "                                                    stratify=y,\n",
    "                                                    test_size=0.2,\n",
    "                                                    random_state=0)\n"
   ]
  },
  {
   "cell_type": "code",
   "execution_count": 462,
   "metadata": {},
   "outputs": [
    {
     "data": {
      "text/plain": [
       "(1144, 10)"
      ]
     },
     "execution_count": 462,
     "metadata": {},
     "output_type": "execute_result"
    }
   ],
   "source": [
    "X_train.shape\n"
   ]
  },
  {
   "cell_type": "code",
   "execution_count": 445,
   "metadata": {},
   "outputs": [
    {
     "data": {
      "text/html": [
       "<div>\n",
       "<style scoped>\n",
       "    .dataframe tbody tr th:only-of-type {\n",
       "        vertical-align: middle;\n",
       "    }\n",
       "\n",
       "    .dataframe tbody tr th {\n",
       "        vertical-align: top;\n",
       "    }\n",
       "\n",
       "    .dataframe thead th {\n",
       "        text-align: right;\n",
       "    }\n",
       "</style>\n",
       "<table border=\"1\" class=\"dataframe\">\n",
       "  <thead>\n",
       "    <tr style=\"text-align: right;\">\n",
       "      <th></th>\n",
       "      <th>WHOIS_COUNTRY</th>\n",
       "      <th>NUMBER_SPECIAL_CHARACTERS</th>\n",
       "      <th>REMOTE_IPS</th>\n",
       "      <th>WHOIS_REGDATE_TS</th>\n",
       "      <th>WHOIS_UPDATED_DATE_TS</th>\n",
       "      <th>SERVER_LENGTH</th>\n",
       "      <th>SOURCE_APP_BYTES_LOG</th>\n",
       "      <th>REMOTE_APP_BYTES_LOG</th>\n",
       "      <th>WHOIS_REGDATE_MONTH</th>\n",
       "      <th>WHOIS_UPDATED_DATE_MONTH</th>\n",
       "    </tr>\n",
       "  </thead>\n",
       "  <tbody>\n",
       "    <tr>\n",
       "      <th>0</th>\n",
       "      <td>None</td>\n",
       "      <td>6</td>\n",
       "      <td>4</td>\n",
       "      <td>1960-12-31 23:59:00</td>\n",
       "      <td>1960-12-31 23:59:00</td>\n",
       "      <td>13</td>\n",
       "      <td>7.143618</td>\n",
       "      <td>7.115582</td>\n",
       "      <td>12</td>\n",
       "      <td>12</td>\n",
       "    </tr>\n",
       "    <tr>\n",
       "      <th>1</th>\n",
       "      <td>None</td>\n",
       "      <td>6</td>\n",
       "      <td>0</td>\n",
       "      <td>1960-12-31 23:59:00</td>\n",
       "      <td>1960-12-31 23:59:00</td>\n",
       "      <td>21</td>\n",
       "      <td>0.000000</td>\n",
       "      <td>0.000000</td>\n",
       "      <td>12</td>\n",
       "      <td>12</td>\n",
       "    </tr>\n",
       "    <tr>\n",
       "      <th>2</th>\n",
       "      <td>US</td>\n",
       "      <td>6</td>\n",
       "      <td>3</td>\n",
       "      <td>1997-07-10 04:00:00</td>\n",
       "      <td>2013-12-09 00:45:00</td>\n",
       "      <td>5</td>\n",
       "      <td>9.840814</td>\n",
       "      <td>8.385032</td>\n",
       "      <td>7</td>\n",
       "      <td>12</td>\n",
       "    </tr>\n",
       "    <tr>\n",
       "      <th>3</th>\n",
       "      <td>US</td>\n",
       "      <td>6</td>\n",
       "      <td>5</td>\n",
       "      <td>1996-12-05 00:00:00</td>\n",
       "      <td>2017-11-04 00:00:00</td>\n",
       "      <td>4</td>\n",
       "      <td>11.774443</td>\n",
       "      <td>8.430981</td>\n",
       "      <td>12</td>\n",
       "      <td>11</td>\n",
       "    </tr>\n",
       "    <tr>\n",
       "      <th>4</th>\n",
       "      <td>SC</td>\n",
       "      <td>7</td>\n",
       "      <td>9</td>\n",
       "      <td>2016-03-08 14:30:00</td>\n",
       "      <td>2016-03-10 03:45:00</td>\n",
       "      <td>5</td>\n",
       "      <td>6.732211</td>\n",
       "      <td>6.796824</td>\n",
       "      <td>3</td>\n",
       "      <td>3</td>\n",
       "    </tr>\n",
       "    <tr>\n",
       "      <th>...</th>\n",
       "      <td>...</td>\n",
       "      <td>...</td>\n",
       "      <td>...</td>\n",
       "      <td>...</td>\n",
       "      <td>...</td>\n",
       "      <td>...</td>\n",
       "      <td>...</td>\n",
       "      <td>...</td>\n",
       "      <td>...</td>\n",
       "      <td>...</td>\n",
       "    </tr>\n",
       "    <tr>\n",
       "      <th>1426</th>\n",
       "      <td>ES</td>\n",
       "      <td>17</td>\n",
       "      <td>0</td>\n",
       "      <td>2008-09-17 00:00:00</td>\n",
       "      <td>2016-02-09 00:00:00</td>\n",
       "      <td>6</td>\n",
       "      <td>5.231109</td>\n",
       "      <td>0.000000</td>\n",
       "      <td>9</td>\n",
       "      <td>2</td>\n",
       "    </tr>\n",
       "    <tr>\n",
       "      <th>1427</th>\n",
       "      <td>ES</td>\n",
       "      <td>16</td>\n",
       "      <td>0</td>\n",
       "      <td>2008-09-17 00:00:00</td>\n",
       "      <td>2016-02-09 00:00:00</td>\n",
       "      <td>6</td>\n",
       "      <td>5.231109</td>\n",
       "      <td>0.000000</td>\n",
       "      <td>9</td>\n",
       "      <td>2</td>\n",
       "    </tr>\n",
       "    <tr>\n",
       "      <th>1428</th>\n",
       "      <td>US</td>\n",
       "      <td>34</td>\n",
       "      <td>6</td>\n",
       "      <td>1999-02-15 00:00:00</td>\n",
       "      <td>2015-07-15 00:00:00</td>\n",
       "      <td>22</td>\n",
       "      <td>11.791935</td>\n",
       "      <td>8.845921</td>\n",
       "      <td>2</td>\n",
       "      <td>7</td>\n",
       "    </tr>\n",
       "    <tr>\n",
       "      <th>1429</th>\n",
       "      <td>US</td>\n",
       "      <td>34</td>\n",
       "      <td>0</td>\n",
       "      <td>1998-01-04 00:00:00</td>\n",
       "      <td>2016-09-12 00:00:00</td>\n",
       "      <td>16</td>\n",
       "      <td>0.000000</td>\n",
       "      <td>0.000000</td>\n",
       "      <td>1</td>\n",
       "      <td>9</td>\n",
       "    </tr>\n",
       "    <tr>\n",
       "      <th>1430</th>\n",
       "      <td>US</td>\n",
       "      <td>40</td>\n",
       "      <td>11</td>\n",
       "      <td>2008-11-14 00:00:00</td>\n",
       "      <td>2013-11-20 00:00:00</td>\n",
       "      <td>17</td>\n",
       "      <td>8.019613</td>\n",
       "      <td>7.929126</td>\n",
       "      <td>11</td>\n",
       "      <td>11</td>\n",
       "    </tr>\n",
       "  </tbody>\n",
       "</table>\n",
       "<p>1431 rows × 10 columns</p>\n",
       "</div>"
      ],
      "text/plain": [
       "     WHOIS_COUNTRY  NUMBER_SPECIAL_CHARACTERS  REMOTE_IPS    WHOIS_REGDATE_TS  \\\n",
       "0             None                          6           4 1960-12-31 23:59:00   \n",
       "1             None                          6           0 1960-12-31 23:59:00   \n",
       "2               US                          6           3 1997-07-10 04:00:00   \n",
       "3               US                          6           5 1996-12-05 00:00:00   \n",
       "4               SC                          7           9 2016-03-08 14:30:00   \n",
       "...            ...                        ...         ...                 ...   \n",
       "1426            ES                         17           0 2008-09-17 00:00:00   \n",
       "1427            ES                         16           0 2008-09-17 00:00:00   \n",
       "1428            US                         34           6 1999-02-15 00:00:00   \n",
       "1429            US                         34           0 1998-01-04 00:00:00   \n",
       "1430            US                         40          11 2008-11-14 00:00:00   \n",
       "\n",
       "     WHOIS_UPDATED_DATE_TS  SERVER_LENGTH  SOURCE_APP_BYTES_LOG  \\\n",
       "0      1960-12-31 23:59:00             13              7.143618   \n",
       "1      1960-12-31 23:59:00             21              0.000000   \n",
       "2      2013-12-09 00:45:00              5              9.840814   \n",
       "3      2017-11-04 00:00:00              4             11.774443   \n",
       "4      2016-03-10 03:45:00              5              6.732211   \n",
       "...                    ...            ...                   ...   \n",
       "1426   2016-02-09 00:00:00              6              5.231109   \n",
       "1427   2016-02-09 00:00:00              6              5.231109   \n",
       "1428   2015-07-15 00:00:00             22             11.791935   \n",
       "1429   2016-09-12 00:00:00             16              0.000000   \n",
       "1430   2013-11-20 00:00:00             17              8.019613   \n",
       "\n",
       "      REMOTE_APP_BYTES_LOG  WHOIS_REGDATE_MONTH  WHOIS_UPDATED_DATE_MONTH  \n",
       "0                 7.115582                   12                        12  \n",
       "1                 0.000000                   12                        12  \n",
       "2                 8.385032                    7                        12  \n",
       "3                 8.430981                   12                        11  \n",
       "4                 6.796824                    3                         3  \n",
       "...                    ...                  ...                       ...  \n",
       "1426              0.000000                    9                         2  \n",
       "1427              0.000000                    9                         2  \n",
       "1428              8.845921                    2                         7  \n",
       "1429              0.000000                    1                         9  \n",
       "1430              7.929126                   11                        11  \n",
       "\n",
       "[1431 rows x 10 columns]"
      ]
     },
     "execution_count": 445,
     "metadata": {},
     "output_type": "execute_result"
    }
   ],
   "source": [
    "X\n"
   ]
  },
  {
   "cell_type": "code",
   "execution_count": 446,
   "metadata": {},
   "outputs": [
    {
     "name": "stdout",
     "output_type": "stream",
     "text": [
      "<class 'pandas.core.frame.DataFrame'>\n",
      "RangeIndex: 1431 entries, 0 to 1430\n",
      "Data columns (total 10 columns):\n",
      " #   Column                     Non-Null Count  Dtype         \n",
      "---  ------                     --------------  -----         \n",
      " 0   WHOIS_COUNTRY              1431 non-null   object        \n",
      " 1   NUMBER_SPECIAL_CHARACTERS  1431 non-null   int64         \n",
      " 2   REMOTE_IPS                 1431 non-null   int64         \n",
      " 3   WHOIS_REGDATE_TS           1431 non-null   datetime64[ns]\n",
      " 4   WHOIS_UPDATED_DATE_TS      1431 non-null   datetime64[ns]\n",
      " 5   SERVER_LENGTH              1431 non-null   int64         \n",
      " 6   SOURCE_APP_BYTES_LOG       1431 non-null   float64       \n",
      " 7   REMOTE_APP_BYTES_LOG       1431 non-null   float64       \n",
      " 8   WHOIS_REGDATE_MONTH        1431 non-null   int64         \n",
      " 9   WHOIS_UPDATED_DATE_MONTH   1431 non-null   int64         \n",
      "dtypes: datetime64[ns](2), float64(2), int64(5), object(1)\n",
      "memory usage: 111.9+ KB\n"
     ]
    }
   ],
   "source": [
    "X.info()\n"
   ]
  },
  {
   "cell_type": "markdown",
   "metadata": {
    "tags": []
   },
   "source": [
    "## Model training <a class=\"anchor\" id=\"sixth-section\"></a>"
   ]
  },
  {
   "cell_type": "code",
   "execution_count": 447,
   "metadata": {},
   "outputs": [
    {
     "name": "stdout",
     "output_type": "stream",
     "text": [
      "model score: 0.934\n"
     ]
    }
   ],
   "source": [
    "from sklearn.model_selection import cross_val_score\n",
    "from sklearn.tree import DecisionTreeClassifier\n",
    "from sklearn.compose import ColumnTransformer\n",
    "from sklearn.pipeline import Pipeline\n",
    "from sklearn.preprocessing import StandardScaler, OneHotEncoder\n",
    "from sklearn.linear_model import LogisticRegression\n",
    "from sklearn.model_selection import train_test_split, GridSearchCV\n",
    "clf = DecisionTreeClassifier(max_depth=10, random_state=0)\n",
    "\n",
    "numeric_features = ['NUMBER_SPECIAL_CHARACTERS',\n",
    "                    'REMOTE_IPS',\n",
    "                    'SERVER_LENGTH',\n",
    "                    'SOURCE_APP_BYTES_LOG',\n",
    "                    'REMOTE_APP_BYTES_LOG']\n",
    "\n",
    "numeric_transformer = Pipeline(\n",
    "    steps=[(\"scaler\", StandardScaler())]\n",
    ")\n",
    "\n",
    "# , 'WHOIS_REGDATE_MONTH', 'WHOIS_UPDATED_DATE_MONTH']\n",
    "categorical_features = ['WHOIS_COUNTRY']\n",
    "categorical_transformer = OneHotEncoder(handle_unknown=\"ignore\")\n",
    "\n",
    "preprocessor = ColumnTransformer(\n",
    "    transformers=[\n",
    "        (\"num\", numeric_transformer, numeric_features),\n",
    "        (\"cat\", categorical_transformer, categorical_features),\n",
    "    ]\n",
    ")\n",
    "\n",
    "# Append classifier to preprocessing pipeline.\n",
    "# Now we have a full prediction pipeline.\n",
    "clf = Pipeline(\n",
    "    steps=[(\"preprocessor\", preprocessor),\n",
    "           (\"classifier\", LogisticRegression(random_state=0))]\n",
    ")\n",
    "\n",
    "clf.fit(X_train, y_train)\n",
    "print(\"model score: %.3f\" % clf.score(X_test, y_test))\n"
   ]
  },
  {
   "cell_type": "markdown",
   "metadata": {},
   "source": [
    "# Model training"
   ]
  },
  {
   "cell_type": "code",
   "execution_count": 451,
   "metadata": {},
   "outputs": [
    {
     "data": {
      "image/png": "[encoded data removed]",
      "text/plain": [
       "<Figure size 720x576 with 1 Axes>"
      ]
     },
     "metadata": {
      "needs_background": "light"
     },
     "output_type": "display_data"
    }
   ],
   "source": [
    "from sklearn.metrics import classification_report\n",
    "from sklearn.metrics import plot_confusion_matrix\n",
    "from sklearn.metrics import roc_curve\n",
    "from sklearn.metrics import plot_roc_curve\n",
    "from sklearn.metrics import auc\n",
    "\n",
    "\n",
    "def plot_roc_curves(clf, modelname):\n",
    "    fig, ax = plt.subplots(nrows=1, ncols=1, figsize=(10, 8))\n",
    "    plot_roc_curve(clf, X_test, y_test, ax=ax,\n",
    "                   name='Test', lw=4, ls='--', c='r')\n",
    "    plot_roc_curve(clf, X_train, y_train, ax=ax,\n",
    "                   name='Train', lw=4, ls='-', c='b')\n",
    "    ax.set_title('ROC curve: '+modelname, fontsize=22)\n",
    "    for item in ([ax.xaxis.label, ax.yaxis.label] +\n",
    "                 ax.get_xticklabels() + ax.get_yticklabels()):\n",
    "        item.set_fontsize(18)\n",
    "    plt.tight_layout()\n",
    "    plt.legend(loc=4, fontsize=20)\n",
    "    plt.show()\n",
    "\n",
    "\n",
    "plot_roc_curves(clf, modelname='Logistic Regression')\n"
   ]
  },
  {
   "cell_type": "code",
   "execution_count": 452,
   "metadata": {},
   "outputs": [
    {
     "data": {
      "text/plain": [
       "<sklearn.metrics._plot.confusion_matrix.ConfusionMatrixDisplay at 0x7fdefe6e17f0>"
      ]
     },
     "execution_count": 452,
     "metadata": {},
     "output_type": "execute_result"
    },
    {
     "data": {
      "image/png": "[encoded data removed]",
      "text/plain": [
       "<Figure size 432x288 with 2 Axes>"
      ]
     },
     "metadata": {
      "needs_background": "light"
     },
     "output_type": "display_data"
    }
   ],
   "source": [
    "plot_confusion_matrix(estimator=clf, X=X_test, y_true=y_test)\n"
   ]
  },
  {
   "cell_type": "markdown",
   "metadata": {},
   "source": [
    "# Model evaluation"
   ]
  },
  {
   "cell_type": "code",
   "execution_count": 453,
   "metadata": {},
   "outputs": [
    {
     "data": {
      "image/png": "[encoded data removed]",
      "text/plain": [
       "<Figure size 432x288 with 2 Axes>"
      ]
     },
     "metadata": {
      "needs_background": "light"
     },
     "output_type": "display_data"
    }
   ],
   "source": [
    "from sklearn.metrics import confusion_matrix, ConfusionMatrixDisplay\n",
    "predictions = clf.predict(X_test)\n",
    "cm = confusion_matrix(y_test, predictions, labels=clf.classes_)\n",
    "disp = ConfusionMatrixDisplay(confusion_matrix=cm,\n",
    "                              display_labels=clf.classes_)\n",
    "disp.plot()\n",
    "\n",
    "plt.show()\n"
   ]
  },
  {
   "cell_type": "code",
   "execution_count": null,
   "metadata": {},
   "outputs": [],
   "source": []
  },
  {
   "cell_type": "code",
   "execution_count": null,
   "metadata": {},
   "outputs": [],
   "source": []
  },
  {
   "cell_type": "markdown",
   "metadata": {},
   "source": [
    "# Prediction and Saving results"
   ]
  },
  {
   "cell_type": "code",
   "execution_count": null,
   "metadata": {},
   "outputs": [],
   "source": []
  },
  {
   "cell_type": "code",
   "execution_count": null,
   "metadata": {},
   "outputs": [],
   "source": []
  },
  {
   "cell_type": "code",
   "execution_count": null,
   "metadata": {},
   "outputs": [],
   "source": []
  },
  {
   "cell_type": "code",
   "execution_count": null,
   "metadata": {},
   "outputs": [],
   "source": []
  },
  {
   "cell_type": "code",
   "execution_count": null,
   "metadata": {},
   "outputs": [],
   "source": []
  }
 ],
 "metadata": {
  "interpreter": {
   "hash": "00576d6de6b0b8e93c5eb412ec4ffbe2c402ae1d6e5624aedf8f9381505fb67b"
  },
  "kernelspec": {
   "display_name": "Python 3 (ipykernel)",
   "language": "python",
   "name": "python3"
  },
  "language_info": {
   "codemirror_mode": {
    "name": "ipython",
    "version": 3
   },
   "file_extension": ".py",
   "mimetype": "text/x-python",
   "name": "python",
   "nbconvert_exporter": "python",
   "pygments_lexer": "ipython3",
   "version": "3.8.11"
  }
 },
 "nbformat": 4,
 "nbformat_minor": 4
}
